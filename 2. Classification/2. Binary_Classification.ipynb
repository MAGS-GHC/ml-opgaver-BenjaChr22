{
  "cells": [
    {
      "cell_type": "markdown",
      "metadata": {
        "id": "TL5y5fY9Jy_x"
      },
      "source": [
        "# Binary Classification\n",
        "\n",
        "So far, you've only created regression models. That is, you created models that produced floating-point predictions, such as, \"houses in this neighborhood costs N thousand dollars.\" In this Colab, you'll create and evaluate a binary [classification model](https://developers.google.com/machine-learning/glossary/#classification_model).  That is, you'll create a model that answers a binary question. In this exercise, the binary question will be, \"Are houses in this neighborhood above a certain price?\"\n",
        "\n",
        "\n",
        "\n"
      ]
    },
    {
      "cell_type": "markdown",
      "metadata": {
        "id": "yuw8rRl9lNuL"
      },
      "source": [
        "## Learning Objectives:\n",
        "\n",
        "After doing this Colab, you'll know how to:\n",
        "\n",
        "  * Convert a regression question into a classification question.\n",
        "  * Modify the classification threshold and determine how that modification influences the model.\n",
        "  * Experiment with different classification metrics to determine your model's effectiveness."
      ]
    },
    {
      "cell_type": "markdown",
      "metadata": {
        "id": "44OdC-OglN9D"
      },
      "source": [
        "## The Dataset\n",
        "  \n",
        "Like several of the previous Colabs, this Colab uses the [California Housing Dataset](https://developers.google.com/machine-learning/crash-course/california-housing-data-description)."
      ]
    },
    {
      "cell_type": "markdown",
      "metadata": {
        "id": "5iuw6-JOGf7I"
      },
      "source": [
        "## Call the import statements\n",
        "\n",
        "The following code imports the necessary modules."
      ]
    },
    {
      "cell_type": "code",
      "execution_count": 1,
      "metadata": {
        "cellView": "form",
        "id": "9n9_cTveKmse"
      },
      "outputs": [
        {
          "name": "stderr",
          "output_type": "stream",
          "text": [
            "2024-01-09 11:32:24.433235: I external/local_tsl/tsl/cuda/cudart_stub.cc:31] Could not find cuda drivers on your machine, GPU will not be used.\n",
            "2024-01-09 11:32:24.704570: E external/local_xla/xla/stream_executor/cuda/cuda_dnn.cc:9261] Unable to register cuDNN factory: Attempting to register factory for plugin cuDNN when one has already been registered\n",
            "2024-01-09 11:32:24.704615: E external/local_xla/xla/stream_executor/cuda/cuda_fft.cc:607] Unable to register cuFFT factory: Attempting to register factory for plugin cuFFT when one has already been registered\n",
            "2024-01-09 11:32:24.744280: E external/local_xla/xla/stream_executor/cuda/cuda_blas.cc:1515] Unable to register cuBLAS factory: Attempting to register factory for plugin cuBLAS when one has already been registered\n",
            "2024-01-09 11:32:24.786036: I external/local_tsl/tsl/cuda/cudart_stub.cc:31] Could not find cuda drivers on your machine, GPU will not be used.\n",
            "2024-01-09 11:32:24.787435: I tensorflow/core/platform/cpu_feature_guard.cc:182] This TensorFlow binary is optimized to use available CPU instructions in performance-critical operations.\n",
            "To enable the following instructions: AVX2 FMA, in other operations, rebuild TensorFlow with the appropriate compiler flags.\n",
            "2024-01-09 11:32:28.072486: W tensorflow/compiler/tf2tensorrt/utils/py_utils.cc:38] TF-TRT Warning: Could not find TensorRT\n"
          ]
        },
        {
          "name": "stdout",
          "output_type": "stream",
          "text": [
            "Ran the import statements.\n"
          ]
        }
      ],
      "source": [
        "#@title Load the imports\n",
        "\n",
        "import numpy as np\n",
        "import pandas as pd\n",
        "import tensorflow as tf\n",
        "from tensorflow.keras import layers\n",
        "from matplotlib import pyplot as plt\n",
        "\n",
        "# The following lines adjust the granularity of reporting.\n",
        "pd.options.display.max_rows = 10\n",
        "pd.options.display.float_format = \"{:.1f}\".format\n",
        "# tf.keras.backend.set_floatx('float32')\n",
        "\n",
        "print(\"Ran the import statements.\")"
      ]
    },
    {
      "cell_type": "markdown",
      "metadata": {
        "id": "X_TaJhU4KcuY"
      },
      "source": [
        "## Load the datasets from the internet\n",
        "\n",
        "The following code cell loads the separate .csv files and creates the following two pandas DataFrames:\n",
        "\n",
        "* `train_df`, which contains the training set\n",
        "* `test_df`, which contains the test set"
      ]
    },
    {
      "cell_type": "code",
      "execution_count": 2,
      "metadata": {
        "id": "JZlvdpyYKx7V"
      },
      "outputs": [],
      "source": [
        "train_df = pd.read_csv(\"https://download.mlcc.google.com/mledu-datasets/california_housing_train.csv\")\n",
        "test_df = pd.read_csv(\"https://download.mlcc.google.com/mledu-datasets/california_housing_test.csv\")\n",
        "train_df = train_df.reindex(np.random.permutation(train_df.index)) # shuffle the training set"
      ]
    },
    {
      "cell_type": "markdown",
      "metadata": {
        "id": "q_vuAQq0Cvrp"
      },
      "source": [
        "Unlike some of the previous Colabs, the preceding code cell did not scale the label (`median_house_value`).  The following section (\"Normalize values\") provides an alternative approach."
      ]
    },
    {
      "cell_type": "markdown",
      "metadata": {
        "id": "_G6y-XcEmk6r"
      },
      "source": [
        "## Normalize values\n",
        "\n",
        "When creating a model with multiple features, the values of each feature should cover roughly the same range.  For example, if one feature's range spans 500 to 100,000 and another feature's range spans 2 to 12, then the model will be difficult or impossible to train. Therefore, you should\n",
        "[normalize](https://developers.google.com/machine-learning/glossary/#normalization) features in a multi-feature model.\n",
        "\n",
        "The following code cell normalizes datasets by converting each raw value (including the label) to its Z-score. A **Z-score** is the number of standard deviations from the mean for a particular raw value. For example, consider a feature having the following characteristics:\n",
        "\n",
        "  * The mean is 60.\n",
        "  * The standard deviation is 10.\n",
        "\n",
        "The raw value 75 would have a Z-score of +1.5:\n",
        "\n",
        "```\n",
        "  Z-score = (75 - 60) / 10 = +1.5\n",
        "```\n",
        "\n",
        "The raw value 38 would have a Z-score of -2.2:\n",
        "\n",
        "```\n",
        "  Z-score = (38 - 60) / 10 = -2.2\n",
        "```"
      ]
    },
    {
      "cell_type": "code",
      "execution_count": 3,
      "metadata": {
        "id": "n7nuAHoZIgVI"
      },
      "outputs": [
        {
          "data": {
            "text/html": [
              "<div>\n",
              "<style scoped>\n",
              "    .dataframe tbody tr th:only-of-type {\n",
              "        vertical-align: middle;\n",
              "    }\n",
              "\n",
              "    .dataframe tbody tr th {\n",
              "        vertical-align: top;\n",
              "    }\n",
              "\n",
              "    .dataframe thead th {\n",
              "        text-align: right;\n",
              "    }\n",
              "</style>\n",
              "<table border=\"1\" class=\"dataframe\">\n",
              "  <thead>\n",
              "    <tr style=\"text-align: right;\">\n",
              "      <th></th>\n",
              "      <th>longitude</th>\n",
              "      <th>latitude</th>\n",
              "      <th>housing_median_age</th>\n",
              "      <th>total_rooms</th>\n",
              "      <th>total_bedrooms</th>\n",
              "      <th>population</th>\n",
              "      <th>households</th>\n",
              "      <th>median_income</th>\n",
              "      <th>median_house_value</th>\n",
              "    </tr>\n",
              "  </thead>\n",
              "  <tbody>\n",
              "    <tr>\n",
              "      <th>2774</th>\n",
              "      <td>0.9</td>\n",
              "      <td>-1.0</td>\n",
              "      <td>-1.5</td>\n",
              "      <td>0.4</td>\n",
              "      <td>0.2</td>\n",
              "      <td>-0.2</td>\n",
              "      <td>-0.1</td>\n",
              "      <td>1.3</td>\n",
              "      <td>1.1</td>\n",
              "    </tr>\n",
              "    <tr>\n",
              "      <th>7835</th>\n",
              "      <td>0.6</td>\n",
              "      <td>-0.8</td>\n",
              "      <td>0.5</td>\n",
              "      <td>-0.6</td>\n",
              "      <td>-0.8</td>\n",
              "      <td>-0.8</td>\n",
              "      <td>-0.8</td>\n",
              "      <td>1.1</td>\n",
              "      <td>2.3</td>\n",
              "    </tr>\n",
              "    <tr>\n",
              "      <th>3972</th>\n",
              "      <td>0.8</td>\n",
              "      <td>-0.9</td>\n",
              "      <td>-0.2</td>\n",
              "      <td>-0.2</td>\n",
              "      <td>0.0</td>\n",
              "      <td>0.1</td>\n",
              "      <td>0.1</td>\n",
              "      <td>-0.7</td>\n",
              "      <td>0.2</td>\n",
              "    </tr>\n",
              "    <tr>\n",
              "      <th>12871</th>\n",
              "      <td>-1.1</td>\n",
              "      <td>0.8</td>\n",
              "      <td>-0.4</td>\n",
              "      <td>0.3</td>\n",
              "      <td>-0.0</td>\n",
              "      <td>0.3</td>\n",
              "      <td>0.1</td>\n",
              "      <td>1.0</td>\n",
              "      <td>0.3</td>\n",
              "    </tr>\n",
              "    <tr>\n",
              "      <th>13998</th>\n",
              "      <td>-1.2</td>\n",
              "      <td>0.8</td>\n",
              "      <td>-0.0</td>\n",
              "      <td>-0.5</td>\n",
              "      <td>-0.7</td>\n",
              "      <td>-0.6</td>\n",
              "      <td>-0.6</td>\n",
              "      <td>0.9</td>\n",
              "      <td>1.4</td>\n",
              "    </tr>\n",
              "  </tbody>\n",
              "</table>\n",
              "</div>"
            ],
            "text/plain": [
              "       longitude  latitude  housing_median_age  total_rooms  total_bedrooms  \\\n",
              "2774         0.9      -1.0                -1.5          0.4             0.2   \n",
              "7835         0.6      -0.8                 0.5         -0.6            -0.8   \n",
              "3972         0.8      -0.9                -0.2         -0.2             0.0   \n",
              "12871       -1.1       0.8                -0.4          0.3            -0.0   \n",
              "13998       -1.2       0.8                -0.0         -0.5            -0.7   \n",
              "\n",
              "       population  households  median_income  median_house_value  \n",
              "2774         -0.2        -0.1            1.3                 1.1  \n",
              "7835         -0.8        -0.8            1.1                 2.3  \n",
              "3972          0.1         0.1           -0.7                 0.2  \n",
              "12871         0.3         0.1            1.0                 0.3  \n",
              "13998        -0.6        -0.6            0.9                 1.4  "
            ]
          },
          "execution_count": 3,
          "metadata": {},
          "output_type": "execute_result"
        }
      ],
      "source": [
        "# Calculate the Z-scores of each column in the training set and\n",
        "# write those Z-scores into a new pandas DataFrame named train_df_norm.\n",
        "train_df_mean = train_df.mean()\n",
        "train_df_std = train_df.std()\n",
        "train_df_norm = (train_df - train_df_mean)/train_df_std\n",
        "\n",
        "# Examine some of the values of the normalized training set. Notice that most\n",
        "# Z-scores fall between -2 and +2.\n",
        "train_df_norm.head()"
      ]
    },
    {
      "cell_type": "code",
      "execution_count": 4,
      "metadata": {
        "id": "QoW-59jVFF2I"
      },
      "outputs": [],
      "source": [
        "# Calculate the Z-scores of each column in the test set and\n",
        "# write those Z-scores into a new pandas DataFrame named test_df_norm.\n",
        "test_df_norm = (test_df - train_df_mean) / train_df_std\n",
        "\n",
        "# Note that we transform the test data with the values calculated from the training set,\n",
        "# as you should always transform your datasets with exactly the same values."
      ]
    },
    {
      "cell_type": "markdown",
      "metadata": {
        "id": "-swmXtWnZGis"
      },
      "source": [
        "## Task 1: Create a binary label\n",
        "\n",
        "In classification problems, the label for every example must be either 0 or 1. Unfortunately, the natural label in the California Housing Dataset, `median_house_value`, contains floating-point values like 80,100 or 85,700 rather than 0s and 1s, while the normalized version of `median_house_values` contains floating-point values primarily between -3 and +3.\n",
        "\n",
        "Your task is to create a new column named `median_house_value_is_high` in both the training set and the test set . If the `median_house_value` is higher than a certain arbitrary value (defined by `threshold`), then set `median_house_value_is_high` to 1. Otherwise, set `median_house_value_is_high` to 0.\n",
        "\n",
        "**Hint:** The cells in the `median_house_value_is_high` column must each hold `1` and `0`, not `True` and `False`. To convert `True` and `False` to  `1` and `0`, call the pandas DataFrame function `astype(float)`."
      ]
    },
    {
      "cell_type": "code",
      "execution_count": 6,
      "metadata": {
        "id": "d4kWfWA8bhKW"
      },
      "outputs": [
        {
          "data": {
            "text/plain": [
              "2774    1.0\n",
              "7835    1.0\n",
              "3972    0.0\n",
              "12871   0.0\n",
              "13998   1.0\n",
              "         ..\n",
              "9783    0.0\n",
              "14021   0.0\n",
              "7776    0.0\n",
              "15801   0.0\n",
              "2951    0.0\n",
              "Name: median_house_value_is_high, Length: 8000, dtype: float64"
            ]
          },
          "execution_count": 6,
          "metadata": {},
          "output_type": "execute_result"
        }
      ],
      "source": [
        "threshold = 265000 # This is the 75th percentile for median house values.\n",
        "train_df_norm[\"median_house_value_is_high\"]  = (train_df[\"median_house_value\"] > threshold).astype(float)\n",
        "test_df_norm[\"median_house_value_is_high\"]  = (test_df[\"median_house_value\"] > threshold).astype(float)\n",
        "\n",
        "# Print out a few example cells from the beginning and\n",
        "# middle of the training set, just to make sure that\n",
        "# your code created only 0s and 1s in the newly created\n",
        "# median_house_value_is_high column\n",
        "train_df_norm[\"median_house_value_is_high\"].head(8000)"
      ]
    },
    {
      "cell_type": "code",
      "execution_count": 7,
      "metadata": {
        "id": "b8b2fNmHO-iU"
      },
      "outputs": [
        {
          "data": {
            "text/plain": [
              "2774    1.0\n",
              "7835    1.0\n",
              "3972    0.0\n",
              "12871   0.0\n",
              "13998   1.0\n",
              "         ..\n",
              "9783    0.0\n",
              "14021   0.0\n",
              "7776    0.0\n",
              "15801   0.0\n",
              "2951    0.0\n",
              "Name: median_house_value_is_high, Length: 8000, dtype: float64"
            ]
          },
          "execution_count": 7,
          "metadata": {},
          "output_type": "execute_result"
        }
      ],
      "source": [
        "#@title Double-click for possible solutions.\n",
        "\n",
        "# We arbitrarily set the threshold to 265,000, which is\n",
        "# the 75th percentile for median house values.  Every neighborhood\n",
        "# with a median house price above 265,000 will be labeled 1,\n",
        "# and all other neighborhoods will be labeled 0.\n",
        "threshold = 265000\n",
        "train_df_norm[\"median_house_value_is_high\"] = (train_df[\"median_house_value\"] > threshold).astype(float)\n",
        "test_df_norm[\"median_house_value_is_high\"] = (test_df[\"median_house_value\"] > threshold).astype(float)\n",
        "train_df_norm[\"median_house_value_is_high\"].head(8000)\n",
        "\n",
        "\n",
        "# Alternatively, instead of picking the threshold\n",
        "# based on raw house values, you can work with Z-scores.\n",
        "# For example, the following possible solution uses a Z-score\n",
        "# of +1.0 as the threshold, meaning that no more\n",
        "# than 16% of the values in median_house_value_is_high\n",
        "# will be labeled 1.\n",
        "\n",
        "# threshold_in_Z = 1.0\n",
        "# train_df_norm[\"median_house_value_is_high\"] = (train_df_norm[\"median_house_value\"] > threshold_in_Z).astype(float)\n",
        "# test_df_norm[\"median_house_value_is_high\"] = (test_df_norm[\"median_house_value\"] > threshold_in_Z).astype(float)\n"
      ]
    },
    {
      "cell_type": "markdown",
      "metadata": {
        "id": "8kir8UTUXSV8"
      },
      "source": [
        "## Represent features as input layers\n",
        "\n",
        "This code cell specifies the features, `median_income` and ` total_rooms`, that you'll ultimately train the model on. These [Input](https://www.tensorflow.org/api_docs/python/tf/keras/Input) objects are instantiated as Keras tensors."
      ]
    },
    {
      "cell_type": "code",
      "execution_count": 8,
      "metadata": {
        "id": "3tmmZIDw4JEC"
      },
      "outputs": [],
      "source": [
        "inputs = {\n",
        "# Features used to train the model on.\n",
        "  'median_income': tf.keras.Input(shape=(1,)),\n",
        "  'total_rooms': tf.keras.Input(shape=(1,))\n",
        "}\n"
      ]
    },
    {
      "cell_type": "markdown",
      "metadata": {
        "id": "3014ezH3C7jT"
      },
      "source": [
        "## Define functions that build and train a model\n",
        "\n",
        "The following code cell defines two functions:\n",
        "\n",
        "  * `create_model(inputs, learning_rate, METRICS)`, which defines the model's\n",
        "    topography.\n",
        "  * `train_model(model, dataset, epochs, label_name, batch_size, shuffle)`, uses input features and labels to train the model.\n",
        "\n",
        "Prior exercises used [ReLU](https://developers.google.com/machine-learning/glossary#ReLU) as the [activation function](https://developers.google.com/machine-learning/glossary#activation-function). By contrast, this exercise uses [sigmoid](https://developers.google.com/machine-learning/glossary#sigmoid-function) as the activation function."
      ]
    },
    {
      "cell_type": "code",
      "execution_count": 9,
      "metadata": {
        "id": "pedD5GhlDC-y"
      },
      "outputs": [
        {
          "name": "stdout",
          "output_type": "stream",
          "text": [
            "Defined the create_model and train_model functions.\n"
          ]
        }
      ],
      "source": [
        "#@title Define the functions that create and train a model.\n",
        "def create_model(my_inputs, my_learning_rate, METRICS):\n",
        "  # Use a Concatenate layer to concatenate the input layers into a single tensor.\n",
        "  # as input for the Dense layer. Ex: [input_1[0][0], input_2[0][0]]\n",
        "  concatenated_inputs = tf.keras.layers.Concatenate()(my_inputs.values())\n",
        "  dense = layers.Dense(units=1, name='dense_layer', activation=tf.sigmoid)\n",
        "  dense_output = dense(concatenated_inputs)\n",
        "  \"\"\"Create and compile a simple classification model.\"\"\"\n",
        "  my_outputs = {\n",
        "    'dense': dense_output,\n",
        "  }\n",
        "  model = tf.keras.Model(inputs=my_inputs, outputs=my_outputs)\n",
        "\n",
        "  # Call the compile method to construct the layers into a model that\n",
        "  # TensorFlow can execute.  Notice that we're using a different loss\n",
        "  # function for classification than for regression.\n",
        "  model.compile(optimizer=tf.keras.optimizers.experimental.RMSprop(learning_rate=my_learning_rate),\n",
        "                loss=tf.keras.losses.BinaryCrossentropy(),\n",
        "                metrics=METRICS)\n",
        "  return model\n",
        "\n",
        "\n",
        "def train_model(model, dataset, epochs, label_name,\n",
        "                batch_size=None, shuffle=True):\n",
        "  \"\"\"Feed a dataset into the model in order to train it.\"\"\"\n",
        "\n",
        "  # The x parameter of tf.keras.Model.fit can be a list of arrays, where\n",
        "  # each array contains the data for one feature.  Here, we're passing\n",
        "  # every column in the dataset. Note that the feature_layer will filter\n",
        "  # away most of those columns, leaving only the desired columns and their\n",
        "  # representations as features.\n",
        "  features = {name:np.array(value) for name, value in dataset.items()}\n",
        "  label = np.array(features.pop(label_name))\n",
        "  history = model.fit(x=features, y=label, batch_size=batch_size,\n",
        "                      epochs=epochs, shuffle=shuffle)\n",
        "\n",
        "  # The list of epochs is stored separately from the rest of history.\n",
        "  epochs = history.epoch\n",
        "\n",
        "  # Isolate the classification metric for each epoch.\n",
        "  hist = pd.DataFrame(history.history)\n",
        "\n",
        "  return epochs, hist\n",
        "\n",
        "print(\"Defined the create_model and train_model functions.\")"
      ]
    },
    {
      "cell_type": "markdown",
      "metadata": {
        "id": "Ak_TMAzGOIFq"
      },
      "source": [
        "## Define a plotting function\n",
        "\n",
        "The following [matplotlib](https://developers.google.com/machine-learning/glossary/#matplotlib) function plots one or more curves, showing how various classification metrics change with each epoch."
      ]
    },
    {
      "cell_type": "code",
      "execution_count": 10,
      "metadata": {
        "cellView": "form",
        "id": "QF0BFRXTOeR3"
      },
      "outputs": [
        {
          "name": "stdout",
          "output_type": "stream",
          "text": [
            "Defined the plot_curve function.\n"
          ]
        }
      ],
      "source": [
        "#@title Define the plotting function.\n",
        "def plot_curve(epochs, hist, list_of_metrics):\n",
        "  \"\"\"Plot a curve of one or more classification metrics vs. epoch.\"\"\"\n",
        "  # list_of_metrics should be one of the names shown in:\n",
        "  # https://www.tensorflow.org/tutorials/structured_data/imbalanced_data#define_the_model_and_metrics\n",
        "\n",
        "  plt.figure()\n",
        "  plt.xlabel(\"Epoch\")\n",
        "  plt.ylabel(\"Value\")\n",
        "\n",
        "  for m in list_of_metrics:\n",
        "    x = hist[m]\n",
        "    plt.plot(epochs[1:], x[1:], label=m)\n",
        "\n",
        "  plt.legend()\n",
        "\n",
        "print(\"Defined the plot_curve function.\")"
      ]
    },
    {
      "cell_type": "markdown",
      "metadata": {
        "id": "D-IXYVfvM4gD"
      },
      "source": [
        "## Invoke the creating, training, and plotting functions\n",
        "\n",
        "The following code cell calls specify the hyperparameters, and then invokes the\n",
        "functions to create and train the model, and then to plot the results."
      ]
    },
    {
      "cell_type": "code",
      "execution_count": 11,
      "metadata": {
        "cellView": "both",
        "id": "nj3v5EKQFY8s"
      },
      "outputs": [
        {
          "name": "stdout",
          "output_type": "stream",
          "text": [
            "Epoch 1/20\n"
          ]
        },
        {
          "name": "stderr",
          "output_type": "stream",
          "text": [
            "/home/codespace/.python/current/lib/python3.10/site-packages/keras/src/engine/functional.py:642: UserWarning: Input dict contained keys ['longitude', 'latitude', 'housing_median_age', 'total_bedrooms', 'population', 'households', 'median_house_value'] which did not match any model input. They will be ignored by the model.\n",
            "  inputs = self._flatten_to_reference_inputs(inputs)\n"
          ]
        },
        {
          "name": "stdout",
          "output_type": "stream",
          "text": [
            "170/170 [==============================] - 1s 1ms/step - loss: 0.6488 - accuracy: 0.4751\n",
            "Epoch 2/20\n",
            "170/170 [==============================] - 0s 1ms/step - loss: 0.5780 - accuracy: 0.5685\n",
            "Epoch 3/20\n",
            "170/170 [==============================] - 0s 1ms/step - loss: 0.5224 - accuracy: 0.6447\n",
            "Epoch 4/20\n",
            "170/170 [==============================] - 0s 1ms/step - loss: 0.4809 - accuracy: 0.6956\n",
            "Epoch 5/20\n",
            "170/170 [==============================] - 0s 1ms/step - loss: 0.4500 - accuracy: 0.7329\n",
            "Epoch 6/20\n",
            "170/170 [==============================] - 0s 1ms/step - loss: 0.4280 - accuracy: 0.7564\n",
            "Epoch 7/20\n",
            "170/170 [==============================] - 0s 1ms/step - loss: 0.4129 - accuracy: 0.7772\n",
            "Epoch 8/20\n",
            "170/170 [==============================] - 0s 1ms/step - loss: 0.4039 - accuracy: 0.7916\n",
            "Epoch 9/20\n",
            "170/170 [==============================] - 0s 1ms/step - loss: 0.3994 - accuracy: 0.8003\n",
            "Epoch 10/20\n",
            "170/170 [==============================] - 0s 1ms/step - loss: 0.3976 - accuracy: 0.8041\n",
            "Epoch 11/20\n",
            "170/170 [==============================] - 0s 1ms/step - loss: 0.3970 - accuracy: 0.8072\n",
            "Epoch 12/20\n",
            "170/170 [==============================] - 0s 1ms/step - loss: 0.3968 - accuracy: 0.8073\n",
            "Epoch 13/20\n",
            "170/170 [==============================] - 0s 1ms/step - loss: 0.3967 - accuracy: 0.8079\n",
            "Epoch 14/20\n",
            "170/170 [==============================] - 0s 1ms/step - loss: 0.3966 - accuracy: 0.8081\n",
            "Epoch 15/20\n",
            "170/170 [==============================] - 0s 1ms/step - loss: 0.3966 - accuracy: 0.8082\n",
            "Epoch 16/20\n",
            "170/170 [==============================] - 0s 1ms/step - loss: 0.3966 - accuracy: 0.8091\n",
            "Epoch 17/20\n",
            "170/170 [==============================] - 0s 1ms/step - loss: 0.3966 - accuracy: 0.8091\n",
            "Epoch 18/20\n",
            "170/170 [==============================] - 0s 984us/step - loss: 0.3966 - accuracy: 0.8092\n",
            "Epoch 19/20\n",
            "170/170 [==============================] - 0s 1ms/step - loss: 0.3966 - accuracy: 0.8093\n",
            "Epoch 20/20\n",
            "170/170 [==============================] - 0s 1ms/step - loss: 0.3966 - accuracy: 0.8091\n"
          ]
        },
        {
          "data": {
            "image/png": "[encoded data removed]",
            "text/plain": [
              "<Figure size 640x480 with 1 Axes>"
            ]
          },
          "metadata": {},
          "output_type": "display_data"
        }
      ],
      "source": [
        "# The following variables are the hyperparameters.\n",
        "learning_rate = 0.001\n",
        "epochs = 20\n",
        "batch_size = 100\n",
        "label_name = \"median_house_value_is_high\"\n",
        "classification_threshold = 0.35\n",
        "\n",
        "# Establish the metrics the model will measure.\n",
        "METRICS = [\n",
        "           tf.keras.metrics.BinaryAccuracy(name='accuracy',\n",
        "                                           threshold=classification_threshold),\n",
        "          ]\n",
        "\n",
        "# Establish the model's topography.\n",
        "my_model = create_model(inputs, learning_rate, METRICS)\n",
        "\n",
        "# To view a PNG of this model's layers, uncomment the call to\n",
        "# `tf.keras.utils.plot_model` below. After running this code cell, click\n",
        "# the file folder on the left, then the `my_classification_model.png` file.\n",
        "# tf.keras.utils.plot_model(my_model, \"my_classification_model.png\")\n",
        "\n",
        "# Train the model on the training set.\n",
        "epochs, hist = train_model(my_model, train_df_norm, epochs,\n",
        "                           label_name, batch_size)\n",
        "\n",
        "# Plot a graph of the metric(s) vs. epochs.\n",
        "list_of_metrics_to_plot = ['accuracy']\n",
        "\n",
        "plot_curve(epochs, hist, list_of_metrics_to_plot)"
      ]
    },
    {
      "cell_type": "markdown",
      "metadata": {
        "id": "FF64TpqkbOpn"
      },
      "source": [
        "Accuracy should gradually improve during training (until it can\n",
        "improve no more)."
      ]
    },
    {
      "cell_type": "markdown",
      "metadata": {
        "id": "1xNqWWos_zyk"
      },
      "source": [
        "## Evaluate the model against the test set\n",
        "\n",
        "At the end of model training, you ended up with a certain accuracy against the *training set*. Invoke the following code cell to determine your model's accuracy against the *test set*."
      ]
    },
    {
      "cell_type": "code",
      "execution_count": 12,
      "metadata": {
        "id": "eJorkMlDmtHf"
      },
      "outputs": [
        {
          "name": "stdout",
          "output_type": "stream",
          "text": [
            "30/30 [==============================] - 0s 1ms/step - loss: 0.4071 - accuracy: 0.8043\n"
          ]
        },
        {
          "data": {
            "text/plain": [
              "[0.4070574939250946, 0.8043333292007446]"
            ]
          },
          "execution_count": 12,
          "metadata": {},
          "output_type": "execute_result"
        }
      ],
      "source": [
        "features = {name:np.array(value) for name, value in test_df_norm.items()}\n",
        "label = np.array(features.pop(label_name))\n",
        "\n",
        "my_model.evaluate(x = features, y = label, batch_size=batch_size)"
      ]
    },
    {
      "cell_type": "markdown",
      "metadata": {
        "id": "q7cHkFXalXV5"
      },
      "source": [
        "## Task 2: How accurate is your model really?\n",
        "\n",
        "Is your model valuable?"
      ]
    },
    {
      "cell_type": "code",
      "execution_count": 13,
      "metadata": {
        "id": "rUvCrQkulwjV"
      },
      "outputs": [],
      "source": [
        "#@title Double-click for a possible answer to Task 2.\n",
        "\n",
        "# A perfect model would make 100% accurate predictions.\n",
        "# Our model makes 80% accurate predictions. 80% sounds\n",
        "# good, but note that a model that always guesses\n",
        "# \"median_house_value_is_high is False\" would be 75%\n",
        "# accurate."
      ]
    },
    {
      "cell_type": "markdown",
      "metadata": {
        "id": "C8crSCCVf6gm"
      },
      "source": [
        "## Task 3: Add precision and recall as metrics\n",
        "\n",
        "Relying solely on accuracy, particularly for a class-imbalanced data set (like ours), can be a poor way to judge a classification model.  Modify the code in the following code cell to enable the model to measure not only accuracy but also precision and recall. We have\n",
        "added accuracy and precision; your task is to add recall. See the [TensorFlow Reference](https://www.tensorflow.org/api_docs/python/tf/keras/metrics/Recall) for details.\n",
        "\n"
      ]
    },
    {
      "cell_type": "code",
      "execution_count": 17,
      "metadata": {
        "id": "r-k1MD2XArmO"
      },
      "outputs": [
        {
          "name": "stdout",
          "output_type": "stream",
          "text": [
            "Epoch 1/20\n",
            "170/170 [==============================] - 1s 1ms/step - loss: 0.7367 - accuracy: 0.2908 - precision: 0.2398 - recall: 0.8474\n",
            "Epoch 2/20\n",
            "170/170 [==============================] - 0s 1ms/step - loss: 0.6397 - accuracy: 0.3212 - precision: 0.2521 - recall: 0.8733\n",
            "Epoch 3/20\n",
            "170/170 [==============================] - 0s 2ms/step - loss: 0.5629 - accuracy: 0.4622 - precision: 0.2995 - recall: 0.8608\n",
            "Epoch 4/20\n",
            "170/170 [==============================] - 0s 2ms/step - loss: 0.5051 - accuracy: 0.6824 - precision: 0.4262 - recall: 0.7838\n",
            "Epoch 5/20\n",
            "170/170 [==============================] - 0s 1ms/step - loss: 0.4648 - accuracy: 0.7616 - precision: 0.5165 - recall: 0.7170\n",
            "Epoch 6/20\n",
            "170/170 [==============================] - 0s 1ms/step - loss: 0.4387 - accuracy: 0.7878 - precision: 0.5630 - recall: 0.6722\n",
            "Epoch 7/20\n",
            "170/170 [==============================] - 0s 1ms/step - loss: 0.4220 - accuracy: 0.7984 - precision: 0.5879 - recall: 0.6447\n",
            "Epoch 8/20\n",
            "170/170 [==============================] - 0s 1ms/step - loss: 0.4114 - accuracy: 0.8034 - precision: 0.6021 - recall: 0.6284\n",
            "Epoch 9/20\n",
            "170/170 [==============================] - 0s 1ms/step - loss: 0.4049 - accuracy: 0.8072 - precision: 0.6127 - recall: 0.6202\n",
            "Epoch 10/20\n",
            "170/170 [==============================] - 0s 1ms/step - loss: 0.4011 - accuracy: 0.8076 - precision: 0.6143 - recall: 0.6181\n",
            "Epoch 11/20\n",
            "170/170 [==============================] - 0s 1ms/step - loss: 0.3990 - accuracy: 0.8082 - precision: 0.6163 - recall: 0.6157\n",
            "Epoch 12/20\n",
            "170/170 [==============================] - 0s 1ms/step - loss: 0.3978 - accuracy: 0.8079 - precision: 0.6152 - recall: 0.6167\n",
            "Epoch 13/20\n",
            "170/170 [==============================] - 0s 1ms/step - loss: 0.3972 - accuracy: 0.8093 - precision: 0.6192 - recall: 0.6148\n",
            "Epoch 14/20\n",
            "170/170 [==============================] - 0s 1ms/step - loss: 0.3969 - accuracy: 0.8094 - precision: 0.6196 - recall: 0.6143\n",
            "Epoch 15/20\n",
            "170/170 [==============================] - 0s 1ms/step - loss: 0.3968 - accuracy: 0.8085 - precision: 0.6171 - recall: 0.6150\n",
            "Epoch 16/20\n",
            "170/170 [==============================] - 0s 1ms/step - loss: 0.3967 - accuracy: 0.8089 - precision: 0.6180 - recall: 0.6155\n",
            "Epoch 17/20\n",
            "170/170 [==============================] - 0s 1ms/step - loss: 0.3966 - accuracy: 0.8086 - precision: 0.6175 - recall: 0.6148\n",
            "Epoch 18/20\n",
            "170/170 [==============================] - 0s 1ms/step - loss: 0.3966 - accuracy: 0.8089 - precision: 0.6184 - recall: 0.6143\n",
            "Epoch 19/20\n",
            "170/170 [==============================] - 0s 1ms/step - loss: 0.3966 - accuracy: 0.8092 - precision: 0.6191 - recall: 0.6138\n",
            "Epoch 20/20\n",
            "170/170 [==============================] - 0s 1ms/step - loss: 0.3966 - accuracy: 0.8096 - precision: 0.6204 - recall: 0.6129\n"
          ]
        },
        {
          "data": {
            "image/png": "[encoded data removed]",
            "text/plain": [
              "<Figure size 640x480 with 1 Axes>"
            ]
          },
          "metadata": {},
          "output_type": "display_data"
        }
      ],
      "source": [
        "# The following variables are the hyperparameters.\n",
        "learning_rate = 0.001\n",
        "epochs = 20\n",
        "batch_size = 100\n",
        "classification_threshold = 0.35\n",
        "label_name = \"median_house_value_is_high\"\n",
        "\n",
        "# Modify the following definition of METRICS to generate\n",
        "# not only accuracy and precision, but also recall:\n",
        "METRICS = [\n",
        "      tf.keras.metrics.BinaryAccuracy(name='accuracy',\n",
        "                                      threshold=classification_threshold),\n",
        "      tf.keras.metrics.Precision(thresholds=classification_threshold,\n",
        "                                 name='precision'\n",
        "                                 ),\n",
        "      tf.keras.metrics.Recall(thresholds=classification_threshold,\n",
        "                                 name='recall'\n",
        "                                 ),\n",
        "      \n",
        "]\n",
        "\n",
        "# Establish the model's topography.\n",
        "my_model = create_model(inputs, learning_rate, METRICS)\n",
        "\n",
        "# Train the model on the training set.\n",
        "epochs, hist = train_model(my_model, train_df_norm, epochs,\n",
        "                           label_name, batch_size)\n",
        "\n",
        "# Plot metrics vs. epochs\n",
        "list_of_metrics_to_plot = ['accuracy', 'precision', 'recall']\n",
        "plot_curve(epochs, hist, list_of_metrics_to_plot)"
      ]
    },
    {
      "cell_type": "code",
      "execution_count": null,
      "metadata": {
        "cellView": "form",
        "id": "Ax87gOyDBhAu"
      },
      "outputs": [],
      "source": [
        "#@title Double-click to view the solution for Task 3.\n",
        "\n",
        "# The following variables are the hyperparameters.\n",
        "learning_rate = 0.001\n",
        "epochs = 20\n",
        "batch_size = 100\n",
        "classification_threshold = 0.35\n",
        "label_name = \"median_house_value_is_high\"\n",
        "\n",
        "# Here is the updated definition of METRICS:\n",
        "METRICS = [\n",
        "      tf.keras.metrics.BinaryAccuracy(name='accuracy',\n",
        "                                      threshold=classification_threshold),\n",
        "      tf.keras.metrics.Precision(thresholds=classification_threshold,\n",
        "                                 name='precision'\n",
        "                                 ),\n",
        "      tf.keras.metrics.Recall(thresholds=classification_threshold,\n",
        "                              name=\"recall\"),\n",
        "]\n",
        "\n",
        "# Establish the model's topography.\n",
        "my_model = create_model(inputs, learning_rate, METRICS)\n",
        "\n",
        "# Train the model on the training set.\n",
        "epochs, hist = train_model(my_model, train_df_norm, epochs,\n",
        "                           label_name, batch_size)\n",
        "\n",
        "# Plot metrics vs. epochs\n",
        "list_of_metrics_to_plot = ['accuracy', \"precision\", \"recall\"]\n",
        "plot_curve(epochs, hist, list_of_metrics_to_plot)\n",
        "\n",
        "\n",
        "# The new graphs suggest that precision and recall are\n",
        "# somewhat in conflict. That is, improvements to one of\n",
        "# those metrics may hurt the other metric."
      ]
    },
    {
      "cell_type": "markdown",
      "metadata": {
        "id": "cAsB85iKSXLe"
      },
      "source": [
        "## Task 4: Experiment with the classification threshold (if time permits)\n",
        "\n",
        "Experiment with different values for `classification_threshold` in the code cell within \"Invoke the creating, training, and plotting functions.\"  What value of `classification_threshold` produces the highest accuracy?"
      ]
    },
    {
      "cell_type": "code",
      "execution_count": 18,
      "metadata": {
        "cellView": "form",
        "id": "FLPDYI7Sphnj"
      },
      "outputs": [
        {
          "name": "stdout",
          "output_type": "stream",
          "text": [
            "Epoch 1/20\n",
            "170/170 [==============================] - 1s 1ms/step - loss: 0.7349 - accuracy: 0.4765 - precision: 0.1068 - recall: 0.1488\n",
            "Epoch 2/20\n",
            "170/170 [==============================] - 0s 1ms/step - loss: 0.6415 - accuracy: 0.7473 - precision: 0.4269 - recall: 0.0337 \n",
            "Epoch 3/20\n",
            "170/170 [==============================] - 0s 2ms/step - loss: 0.5683 - accuracy: 0.7782 - precision: 0.9525 - recall: 0.1180\n",
            "Epoch 4/20\n",
            "170/170 [==============================] - 0s 1ms/step - loss: 0.5146 - accuracy: 0.8021 - precision: 0.9518 - recall: 0.2187\n",
            "Epoch 5/20\n",
            "170/170 [==============================] - 0s 1ms/step - loss: 0.4766 - accuracy: 0.8164 - precision: 0.9252 - recall: 0.2882\n",
            "Epoch 6/20\n",
            "170/170 [==============================] - 0s 1ms/step - loss: 0.4497 - accuracy: 0.8221 - precision: 0.9014 - recall: 0.3231\n",
            "Epoch 7/20\n",
            "170/170 [==============================] - 0s 1ms/step - loss: 0.4306 - accuracy: 0.8286 - precision: 0.8924 - recall: 0.3572\n",
            "Epoch 8/20\n",
            "170/170 [==============================] - 0s 1ms/step - loss: 0.4176 - accuracy: 0.8315 - precision: 0.8715 - recall: 0.3817\n",
            "Epoch 9/20\n",
            "170/170 [==============================] - 0s 1ms/step - loss: 0.4094 - accuracy: 0.8329 - precision: 0.8478 - recall: 0.4038\n",
            "Epoch 10/20\n",
            "170/170 [==============================] - 0s 1ms/step - loss: 0.4039 - accuracy: 0.8341 - precision: 0.8299 - recall: 0.4227\n",
            "Epoch 11/20\n",
            "170/170 [==============================] - 0s 2ms/step - loss: 0.4005 - accuracy: 0.8359 - precision: 0.8188 - recall: 0.4405\n",
            "Epoch 12/20\n",
            "170/170 [==============================] - 0s 1ms/step - loss: 0.3986 - accuracy: 0.8358 - precision: 0.8050 - recall: 0.4521\n",
            "Epoch 13/20\n",
            "170/170 [==============================] - 0s 1ms/step - loss: 0.3976 - accuracy: 0.8362 - precision: 0.7979 - recall: 0.4610\n",
            "Epoch 14/20\n",
            "170/170 [==============================] - 0s 1ms/step - loss: 0.3971 - accuracy: 0.8368 - precision: 0.7958 - recall: 0.4662\n",
            "Epoch 15/20\n",
            "170/170 [==============================] - 0s 1ms/step - loss: 0.3969 - accuracy: 0.8366 - precision: 0.7952 - recall: 0.4662\n",
            "Epoch 16/20\n",
            "170/170 [==============================] - 0s 1ms/step - loss: 0.3967 - accuracy: 0.8365 - precision: 0.7892 - recall: 0.4716\n",
            "Epoch 17/20\n",
            "170/170 [==============================] - 0s 1ms/step - loss: 0.3967 - accuracy: 0.8361 - precision: 0.7892 - recall: 0.4690\n",
            "Epoch 18/20\n",
            "170/170 [==============================] - 0s 1ms/step - loss: 0.3966 - accuracy: 0.8359 - precision: 0.7845 - recall: 0.4730\n",
            "Epoch 19/20\n",
            "170/170 [==============================] - 0s 1ms/step - loss: 0.3966 - accuracy: 0.8364 - precision: 0.7894 - recall: 0.4704\n",
            "Epoch 20/20\n",
            "170/170 [==============================] - 0s 1ms/step - loss: 0.3966 - accuracy: 0.8359 - precision: 0.7836 - recall: 0.4740\n"
          ]
        },
        {
          "data": {
            "image/png": "[encoded data removed]",
            "text/plain": [
              "<Figure size 640x480 with 1 Axes>"
            ]
          },
          "metadata": {},
          "output_type": "display_data"
        }
      ],
      "source": [
        "#@title Double-click to view the solution for Task 4.\n",
        "\n",
        "# The following variables are the hyperparameters.\n",
        "learning_rate = 0.001\n",
        "epochs = 20\n",
        "batch_size = 100\n",
        "classification_threshold = 0.52\n",
        "label_name = \"median_house_value_is_high\"\n",
        "\n",
        "# Here is the updated definition of METRICS:\n",
        "METRICS = [\n",
        "      tf.keras.metrics.BinaryAccuracy(name='accuracy',\n",
        "                                      threshold=classification_threshold),\n",
        "      tf.keras.metrics.Precision(thresholds=classification_threshold,\n",
        "                                 name='precision'\n",
        "                                 ),\n",
        "      tf.keras.metrics.Recall(thresholds=classification_threshold,\n",
        "                              name=\"recall\"),\n",
        "]\n",
        "\n",
        "# Establish the model's topography.\n",
        "my_model = create_model(inputs, learning_rate, METRICS)\n",
        "\n",
        "# Train the model on the training set.\n",
        "epochs, hist = train_model(my_model, train_df_norm, epochs,\n",
        "                           label_name, batch_size)\n",
        "\n",
        "# Plot metrics vs. epochs\n",
        "list_of_metrics_to_plot = ['accuracy', \"precision\", \"recall\"]\n",
        "plot_curve(epochs, hist, list_of_metrics_to_plot)\n",
        "\n",
        "# A `classification_threshold` of slightly over 0.5\n",
        "# appears to produce the highest accuracy (about 83%).\n",
        "# Raising the `classification_threshold` to 0.9 drops\n",
        "# accuracy by about 5%.  Lowering the\n",
        "# `classification_threshold` to 0.3 drops accuracy by\n",
        "# about 3%."
      ]
    },
    {
      "cell_type": "markdown",
      "metadata": {
        "id": "XBGRS0Ndduus"
      },
      "source": [
        "## Task 5: Summarize model performance (if time permits)\n",
        "\n",
        "If time permits, add one more metric that attempts to summarize the model's overall performance."
      ]
    },
    {
      "cell_type": "code",
      "execution_count": 20,
      "metadata": {
        "cellView": "form",
        "id": "vwNE6syoFvWe"
      },
      "outputs": [
        {
          "name": "stdout",
          "output_type": "stream",
          "text": [
            "Epoch 1/200\n",
            "85/85 [==============================] - 0s 1ms/step - loss: 0.7852 - auc: 0.1822\n",
            "Epoch 2/200\n",
            "85/85 [==============================] - 0s 1ms/step - loss: 0.7382 - auc: 0.2079\n",
            "Epoch 3/200\n",
            "85/85 [==============================] - 0s 1ms/step - loss: 0.6961 - auc: 0.2534\n",
            "Epoch 4/200\n",
            "85/85 [==============================] - 0s 1ms/step - loss: 0.6580 - auc: 0.3244\n",
            "Epoch 5/200\n",
            "85/85 [==============================] - 0s 1ms/step - loss: 0.6234 - auc: 0.4636\n",
            "Epoch 6/200\n",
            "85/85 [==============================] - 0s 1ms/step - loss: 0.5919 - auc: 0.6659\n",
            "Epoch 7/200\n",
            "85/85 [==============================] - 0s 1ms/step - loss: 0.5637 - auc: 0.7605\n",
            "Epoch 8/200\n",
            "85/85 [==============================] - 0s 1ms/step - loss: 0.5387 - auc: 0.7955\n",
            "Epoch 9/200\n",
            "85/85 [==============================] - 0s 1ms/step - loss: 0.5165 - auc: 0.8116\n",
            "Epoch 10/200\n",
            "85/85 [==============================] - 0s 1ms/step - loss: 0.4972 - auc: 0.8205\n",
            "Epoch 11/200\n",
            "85/85 [==============================] - 0s 1ms/step - loss: 0.4806 - auc: 0.8259\n",
            "Epoch 12/200\n",
            "85/85 [==============================] - 0s 1ms/step - loss: 0.4663 - auc: 0.8291\n",
            "Epoch 13/200\n",
            "85/85 [==============================] - 0s 1ms/step - loss: 0.4542 - auc: 0.8319\n",
            "Epoch 14/200\n",
            "85/85 [==============================] - 0s 1ms/step - loss: 0.4440 - auc: 0.8331\n",
            "Epoch 15/200\n",
            "85/85 [==============================] - 0s 1ms/step - loss: 0.4354 - auc: 0.8337\n",
            "Epoch 16/200\n",
            "85/85 [==============================] - 0s 1ms/step - loss: 0.4280 - auc: 0.8347\n",
            "Epoch 17/200\n",
            "85/85 [==============================] - 0s 1ms/step - loss: 0.4218 - auc: 0.8354\n",
            "Epoch 18/200\n",
            "85/85 [==============================] - 0s 1ms/step - loss: 0.4164 - auc: 0.8356\n",
            "Epoch 19/200\n",
            "85/85 [==============================] - 0s 1ms/step - loss: 0.4120 - auc: 0.8360\n",
            "Epoch 20/200\n",
            "85/85 [==============================] - 0s 1ms/step - loss: 0.4083 - auc: 0.8361\n",
            "Epoch 21/200\n",
            "85/85 [==============================] - 0s 1ms/step - loss: 0.4052 - auc: 0.8364\n",
            "Epoch 22/200\n",
            "85/85 [==============================] - 0s 1ms/step - loss: 0.4028 - auc: 0.8367\n",
            "Epoch 23/200\n",
            "85/85 [==============================] - 0s 2ms/step - loss: 0.4009 - auc: 0.8365\n",
            "Epoch 24/200\n",
            "85/85 [==============================] - 0s 1ms/step - loss: 0.3995 - auc: 0.8366\n",
            "Epoch 25/200\n",
            "85/85 [==============================] - 0s 1ms/step - loss: 0.3985 - auc: 0.8368\n",
            "Epoch 26/200\n",
            "85/85 [==============================] - 0s 1ms/step - loss: 0.3978 - auc: 0.8368\n",
            "Epoch 27/200\n",
            "85/85 [==============================] - 0s 1ms/step - loss: 0.3973 - auc: 0.8367\n",
            "Epoch 28/200\n",
            "85/85 [==============================] - 0s 1ms/step - loss: 0.3970 - auc: 0.8369\n",
            "Epoch 29/200\n",
            "85/85 [==============================] - 0s 2ms/step - loss: 0.3969 - auc: 0.8368\n",
            "Epoch 30/200\n",
            "85/85 [==============================] - 0s 1ms/step - loss: 0.3968 - auc: 0.8368\n",
            "Epoch 31/200\n",
            "85/85 [==============================] - 0s 1ms/step - loss: 0.3967 - auc: 0.8367\n",
            "Epoch 32/200\n",
            "85/85 [==============================] - 0s 1ms/step - loss: 0.3967 - auc: 0.8367\n",
            "Epoch 33/200\n",
            "85/85 [==============================] - 0s 1ms/step - loss: 0.3966 - auc: 0.8368\n",
            "Epoch 34/200\n",
            "85/85 [==============================] - 0s 1ms/step - loss: 0.3966 - auc: 0.8370\n",
            "Epoch 35/200\n",
            "85/85 [==============================] - 0s 1ms/step - loss: 0.3966 - auc: 0.8369\n",
            "Epoch 36/200\n",
            "85/85 [==============================] - 0s 1ms/step - loss: 0.3966 - auc: 0.8369\n",
            "Epoch 37/200\n",
            "85/85 [==============================] - 0s 1ms/step - loss: 0.3966 - auc: 0.8369\n",
            "Epoch 38/200\n",
            "85/85 [==============================] - 0s 1ms/step - loss: 0.3966 - auc: 0.8369\n",
            "Epoch 39/200\n",
            "85/85 [==============================] - 0s 1ms/step - loss: 0.3966 - auc: 0.8369\n",
            "Epoch 40/200\n",
            "85/85 [==============================] - 0s 1ms/step - loss: 0.3966 - auc: 0.8369\n",
            "Epoch 41/200\n",
            "85/85 [==============================] - 0s 1ms/step - loss: 0.3966 - auc: 0.8370\n",
            "Epoch 42/200\n",
            "85/85 [==============================] - 0s 1ms/step - loss: 0.3966 - auc: 0.8369\n",
            "Epoch 43/200\n",
            "85/85 [==============================] - 0s 1ms/step - loss: 0.3966 - auc: 0.8370\n",
            "Epoch 44/200\n",
            "85/85 [==============================] - 0s 1ms/step - loss: 0.3966 - auc: 0.8369\n",
            "Epoch 45/200\n",
            "85/85 [==============================] - 0s 1ms/step - loss: 0.3966 - auc: 0.8369\n",
            "Epoch 46/200\n",
            "85/85 [==============================] - 0s 1ms/step - loss: 0.3966 - auc: 0.8370\n",
            "Epoch 47/200\n",
            "85/85 [==============================] - 0s 1ms/step - loss: 0.3966 - auc: 0.8370\n",
            "Epoch 48/200\n",
            "85/85 [==============================] - 0s 1ms/step - loss: 0.3966 - auc: 0.8370\n",
            "Epoch 49/200\n",
            "85/85 [==============================] - 0s 1ms/step - loss: 0.3966 - auc: 0.8369\n",
            "Epoch 50/200\n",
            "85/85 [==============================] - 0s 1ms/step - loss: 0.3966 - auc: 0.8369\n",
            "Epoch 51/200\n",
            "85/85 [==============================] - 0s 1ms/step - loss: 0.3966 - auc: 0.8370\n",
            "Epoch 52/200\n",
            "85/85 [==============================] - 0s 1ms/step - loss: 0.3966 - auc: 0.8370\n",
            "Epoch 53/200\n",
            "85/85 [==============================] - 0s 1ms/step - loss: 0.3966 - auc: 0.8369\n",
            "Epoch 54/200\n",
            "85/85 [==============================] - 0s 1ms/step - loss: 0.3966 - auc: 0.8369\n",
            "Epoch 55/200\n",
            "85/85 [==============================] - 0s 1ms/step - loss: 0.3966 - auc: 0.8369\n",
            "Epoch 56/200\n",
            "85/85 [==============================] - 0s 1ms/step - loss: 0.3966 - auc: 0.8369\n",
            "Epoch 57/200\n",
            "85/85 [==============================] - 0s 2ms/step - loss: 0.3966 - auc: 0.8369\n",
            "Epoch 58/200\n",
            "85/85 [==============================] - 0s 2ms/step - loss: 0.3966 - auc: 0.8369\n",
            "Epoch 59/200\n",
            "85/85 [==============================] - 0s 1ms/step - loss: 0.3966 - auc: 0.8368\n",
            "Epoch 60/200\n",
            "85/85 [==============================] - 0s 1ms/step - loss: 0.3966 - auc: 0.8369\n",
            "Epoch 61/200\n",
            "85/85 [==============================] - 0s 1ms/step - loss: 0.3966 - auc: 0.8369\n",
            "Epoch 62/200\n",
            "85/85 [==============================] - 0s 1ms/step - loss: 0.3966 - auc: 0.8369\n",
            "Epoch 63/200\n",
            "85/85 [==============================] - 0s 1ms/step - loss: 0.3966 - auc: 0.8369\n",
            "Epoch 64/200\n",
            "85/85 [==============================] - 0s 1ms/step - loss: 0.3966 - auc: 0.8370\n",
            "Epoch 65/200\n",
            "85/85 [==============================] - 0s 1ms/step - loss: 0.3966 - auc: 0.8369\n",
            "Epoch 66/200\n",
            "85/85 [==============================] - 0s 1ms/step - loss: 0.3966 - auc: 0.8369\n",
            "Epoch 67/200\n",
            "85/85 [==============================] - 0s 1ms/step - loss: 0.3966 - auc: 0.8369\n",
            "Epoch 68/200\n",
            "85/85 [==============================] - 0s 1ms/step - loss: 0.3966 - auc: 0.8369\n",
            "Epoch 69/200\n",
            "85/85 [==============================] - 0s 1ms/step - loss: 0.3966 - auc: 0.8369\n",
            "Epoch 70/200\n",
            "85/85 [==============================] - 0s 1ms/step - loss: 0.3966 - auc: 0.8368\n",
            "Epoch 71/200\n",
            "85/85 [==============================] - 0s 1ms/step - loss: 0.3966 - auc: 0.8369\n",
            "Epoch 72/200\n",
            "85/85 [==============================] - 0s 2ms/step - loss: 0.3966 - auc: 0.8370\n",
            "Epoch 73/200\n",
            "85/85 [==============================] - 0s 2ms/step - loss: 0.3966 - auc: 0.8369\n",
            "Epoch 74/200\n",
            "85/85 [==============================] - 0s 1ms/step - loss: 0.3966 - auc: 0.8369\n",
            "Epoch 75/200\n",
            "85/85 [==============================] - 0s 1ms/step - loss: 0.3966 - auc: 0.8369\n",
            "Epoch 76/200\n",
            "85/85 [==============================] - 0s 1ms/step - loss: 0.3966 - auc: 0.8369\n",
            "Epoch 77/200\n",
            "85/85 [==============================] - 0s 1ms/step - loss: 0.3966 - auc: 0.8369\n",
            "Epoch 78/200\n",
            "85/85 [==============================] - 0s 2ms/step - loss: 0.3966 - auc: 0.8369\n",
            "Epoch 79/200\n",
            "85/85 [==============================] - 0s 1ms/step - loss: 0.3966 - auc: 0.8369\n",
            "Epoch 80/200\n",
            "85/85 [==============================] - 0s 1ms/step - loss: 0.3966 - auc: 0.8370\n",
            "Epoch 81/200\n",
            "85/85 [==============================] - 0s 1ms/step - loss: 0.3966 - auc: 0.8369\n",
            "Epoch 82/200\n",
            "85/85 [==============================] - 0s 1ms/step - loss: 0.3966 - auc: 0.8369\n",
            "Epoch 83/200\n",
            "85/85 [==============================] - 0s 1ms/step - loss: 0.3966 - auc: 0.8369\n",
            "Epoch 84/200\n",
            "85/85 [==============================] - 0s 1ms/step - loss: 0.3966 - auc: 0.8369\n",
            "Epoch 85/200\n",
            "85/85 [==============================] - 0s 1ms/step - loss: 0.3966 - auc: 0.8369\n",
            "Epoch 86/200\n",
            "85/85 [==============================] - 0s 1ms/step - loss: 0.3966 - auc: 0.8369\n",
            "Epoch 87/200\n",
            "85/85 [==============================] - 0s 1ms/step - loss: 0.3966 - auc: 0.8369\n",
            "Epoch 88/200\n",
            "85/85 [==============================] - 0s 1ms/step - loss: 0.3966 - auc: 0.8369\n",
            "Epoch 89/200\n",
            "85/85 [==============================] - 0s 1ms/step - loss: 0.3966 - auc: 0.8369\n",
            "Epoch 90/200\n",
            "85/85 [==============================] - 0s 1ms/step - loss: 0.3966 - auc: 0.8369\n",
            "Epoch 91/200\n",
            "85/85 [==============================] - 0s 1ms/step - loss: 0.3966 - auc: 0.8369\n",
            "Epoch 92/200\n",
            "85/85 [==============================] - 0s 1ms/step - loss: 0.3966 - auc: 0.8369\n",
            "Epoch 93/200\n",
            "85/85 [==============================] - 0s 1ms/step - loss: 0.3966 - auc: 0.8370\n",
            "Epoch 94/200\n",
            "85/85 [==============================] - 0s 1ms/step - loss: 0.3966 - auc: 0.8370\n",
            "Epoch 95/200\n",
            "85/85 [==============================] - 0s 1ms/step - loss: 0.3966 - auc: 0.8370\n",
            "Epoch 96/200\n",
            "85/85 [==============================] - 0s 1ms/step - loss: 0.3966 - auc: 0.8369\n",
            "Epoch 97/200\n",
            "85/85 [==============================] - 0s 1ms/step - loss: 0.3966 - auc: 0.8369\n",
            "Epoch 98/200\n",
            "85/85 [==============================] - 0s 1ms/step - loss: 0.3966 - auc: 0.8369\n",
            "Epoch 99/200\n",
            "85/85 [==============================] - 0s 1ms/step - loss: 0.3966 - auc: 0.8369\n",
            "Epoch 100/200\n",
            "85/85 [==============================] - 0s 1ms/step - loss: 0.3966 - auc: 0.8369\n",
            "Epoch 101/200\n",
            "85/85 [==============================] - 0s 1ms/step - loss: 0.3966 - auc: 0.8369\n",
            "Epoch 102/200\n",
            "85/85 [==============================] - 0s 1ms/step - loss: 0.3966 - auc: 0.8369\n",
            "Epoch 103/200\n",
            "85/85 [==============================] - 0s 1ms/step - loss: 0.3966 - auc: 0.8369\n",
            "Epoch 104/200\n",
            "85/85 [==============================] - 0s 1ms/step - loss: 0.3966 - auc: 0.8369\n",
            "Epoch 105/200\n",
            "85/85 [==============================] - 0s 1ms/step - loss: 0.3966 - auc: 0.8370\n",
            "Epoch 106/200\n",
            "85/85 [==============================] - 0s 1ms/step - loss: 0.3966 - auc: 0.8369\n",
            "Epoch 107/200\n",
            "85/85 [==============================] - 0s 1ms/step - loss: 0.3966 - auc: 0.8370\n",
            "Epoch 108/200\n",
            "85/85 [==============================] - 0s 1ms/step - loss: 0.3966 - auc: 0.8369\n",
            "Epoch 109/200\n",
            "85/85 [==============================] - 0s 1ms/step - loss: 0.3966 - auc: 0.8370\n",
            "Epoch 110/200\n",
            "85/85 [==============================] - 0s 1ms/step - loss: 0.3966 - auc: 0.8369\n",
            "Epoch 111/200\n",
            "85/85 [==============================] - 0s 1ms/step - loss: 0.3966 - auc: 0.8369\n",
            "Epoch 112/200\n",
            "85/85 [==============================] - 0s 1ms/step - loss: 0.3966 - auc: 0.8370\n",
            "Epoch 113/200\n",
            "85/85 [==============================] - 0s 1ms/step - loss: 0.3966 - auc: 0.8369\n",
            "Epoch 114/200\n",
            "85/85 [==============================] - 0s 1ms/step - loss: 0.3966 - auc: 0.8369\n",
            "Epoch 115/200\n",
            "85/85 [==============================] - 0s 1ms/step - loss: 0.3966 - auc: 0.8369\n",
            "Epoch 116/200\n",
            "85/85 [==============================] - 0s 1ms/step - loss: 0.3966 - auc: 0.8370\n",
            "Epoch 117/200\n",
            "85/85 [==============================] - 0s 1ms/step - loss: 0.3966 - auc: 0.8368\n",
            "Epoch 118/200\n",
            "85/85 [==============================] - 0s 1ms/step - loss: 0.3966 - auc: 0.8369\n",
            "Epoch 119/200\n",
            "85/85 [==============================] - 0s 1ms/step - loss: 0.3966 - auc: 0.8368\n",
            "Epoch 120/200\n",
            "85/85 [==============================] - 0s 1ms/step - loss: 0.3966 - auc: 0.8368\n",
            "Epoch 121/200\n",
            "85/85 [==============================] - 0s 1ms/step - loss: 0.3966 - auc: 0.8369\n",
            "Epoch 122/200\n",
            "85/85 [==============================] - 0s 2ms/step - loss: 0.3966 - auc: 0.8369\n",
            "Epoch 123/200\n",
            "85/85 [==============================] - 0s 2ms/step - loss: 0.3966 - auc: 0.8369\n",
            "Epoch 124/200\n",
            "85/85 [==============================] - 0s 2ms/step - loss: 0.3966 - auc: 0.8369\n",
            "Epoch 125/200\n",
            "85/85 [==============================] - 0s 1ms/step - loss: 0.3966 - auc: 0.8369\n",
            "Epoch 126/200\n",
            "85/85 [==============================] - 0s 1ms/step - loss: 0.3966 - auc: 0.8369\n",
            "Epoch 127/200\n",
            "85/85 [==============================] - 0s 1ms/step - loss: 0.3966 - auc: 0.8369\n",
            "Epoch 128/200\n",
            "85/85 [==============================] - 0s 2ms/step - loss: 0.3966 - auc: 0.8369\n",
            "Epoch 129/200\n",
            "85/85 [==============================] - 0s 1ms/step - loss: 0.3966 - auc: 0.8369\n",
            "Epoch 130/200\n",
            "85/85 [==============================] - 0s 1ms/step - loss: 0.3966 - auc: 0.8370\n",
            "Epoch 131/200\n",
            "85/85 [==============================] - 0s 1ms/step - loss: 0.3966 - auc: 0.8369\n",
            "Epoch 132/200\n",
            "85/85 [==============================] - 0s 1ms/step - loss: 0.3966 - auc: 0.8369\n",
            "Epoch 133/200\n",
            "85/85 [==============================] - 0s 1ms/step - loss: 0.3966 - auc: 0.8369\n",
            "Epoch 134/200\n",
            "85/85 [==============================] - 0s 1ms/step - loss: 0.3966 - auc: 0.8369\n",
            "Epoch 135/200\n",
            "85/85 [==============================] - 0s 1ms/step - loss: 0.3966 - auc: 0.8369\n",
            "Epoch 136/200\n",
            "85/85 [==============================] - 0s 1ms/step - loss: 0.3966 - auc: 0.8369\n",
            "Epoch 137/200\n",
            "85/85 [==============================] - 0s 1ms/step - loss: 0.3966 - auc: 0.8369\n",
            "Epoch 138/200\n",
            "85/85 [==============================] - 0s 1ms/step - loss: 0.3966 - auc: 0.8369\n",
            "Epoch 139/200\n",
            "85/85 [==============================] - 0s 1ms/step - loss: 0.3966 - auc: 0.8369\n",
            "Epoch 140/200\n",
            "85/85 [==============================] - 0s 1ms/step - loss: 0.3966 - auc: 0.8368\n",
            "Epoch 141/200\n",
            "85/85 [==============================] - 0s 1ms/step - loss: 0.3966 - auc: 0.8369\n",
            "Epoch 142/200\n",
            "85/85 [==============================] - 0s 1ms/step - loss: 0.3966 - auc: 0.8369\n",
            "Epoch 143/200\n",
            "85/85 [==============================] - 0s 1ms/step - loss: 0.3966 - auc: 0.8369\n",
            "Epoch 144/200\n",
            "85/85 [==============================] - 0s 1ms/step - loss: 0.3966 - auc: 0.8369\n",
            "Epoch 145/200\n",
            "85/85 [==============================] - 0s 1ms/step - loss: 0.3966 - auc: 0.8369\n",
            "Epoch 146/200\n",
            "85/85 [==============================] - 0s 1ms/step - loss: 0.3966 - auc: 0.8369\n",
            "Epoch 147/200\n",
            "85/85 [==============================] - 0s 1ms/step - loss: 0.3966 - auc: 0.8369\n",
            "Epoch 148/200\n",
            "85/85 [==============================] - 0s 1ms/step - loss: 0.3966 - auc: 0.8369\n",
            "Epoch 149/200\n",
            "85/85 [==============================] - 0s 1ms/step - loss: 0.3966 - auc: 0.8369\n",
            "Epoch 150/200\n",
            "85/85 [==============================] - 0s 1ms/step - loss: 0.3966 - auc: 0.8369\n",
            "Epoch 151/200\n",
            "85/85 [==============================] - 0s 1ms/step - loss: 0.3966 - auc: 0.8369\n",
            "Epoch 152/200\n",
            "85/85 [==============================] - 0s 1ms/step - loss: 0.3966 - auc: 0.8369\n",
            "Epoch 153/200\n",
            "85/85 [==============================] - 0s 1ms/step - loss: 0.3966 - auc: 0.8370\n",
            "Epoch 154/200\n",
            "85/85 [==============================] - 0s 1ms/step - loss: 0.3966 - auc: 0.8369\n",
            "Epoch 155/200\n",
            "85/85 [==============================] - 0s 2ms/step - loss: 0.3966 - auc: 0.8369\n",
            "Epoch 156/200\n",
            "85/85 [==============================] - 0s 2ms/step - loss: 0.3966 - auc: 0.8369\n",
            "Epoch 157/200\n",
            "85/85 [==============================] - 0s 2ms/step - loss: 0.3966 - auc: 0.8369\n",
            "Epoch 158/200\n",
            "85/85 [==============================] - 0s 1ms/step - loss: 0.3966 - auc: 0.8369\n",
            "Epoch 159/200\n",
            "85/85 [==============================] - 0s 1ms/step - loss: 0.3966 - auc: 0.8369\n",
            "Epoch 160/200\n",
            "85/85 [==============================] - 0s 1ms/step - loss: 0.3966 - auc: 0.8369\n",
            "Epoch 161/200\n",
            "85/85 [==============================] - 0s 1ms/step - loss: 0.3966 - auc: 0.8369\n",
            "Epoch 162/200\n",
            "85/85 [==============================] - 0s 1ms/step - loss: 0.3966 - auc: 0.8369\n",
            "Epoch 163/200\n",
            "85/85 [==============================] - 0s 1ms/step - loss: 0.3966 - auc: 0.8369\n",
            "Epoch 164/200\n",
            "85/85 [==============================] - 0s 1ms/step - loss: 0.3966 - auc: 0.8369\n",
            "Epoch 165/200\n",
            "85/85 [==============================] - 0s 1ms/step - loss: 0.3966 - auc: 0.8369\n",
            "Epoch 166/200\n",
            "85/85 [==============================] - 0s 1ms/step - loss: 0.3966 - auc: 0.8370\n",
            "Epoch 167/200\n",
            "85/85 [==============================] - 0s 1ms/step - loss: 0.3966 - auc: 0.8370\n",
            "Epoch 168/200\n",
            "85/85 [==============================] - 0s 1ms/step - loss: 0.3966 - auc: 0.8369\n",
            "Epoch 169/200\n",
            "85/85 [==============================] - 0s 1ms/step - loss: 0.3966 - auc: 0.8369\n",
            "Epoch 170/200\n",
            "85/85 [==============================] - 0s 1ms/step - loss: 0.3966 - auc: 0.8368\n",
            "Epoch 171/200\n",
            "85/85 [==============================] - 0s 1ms/step - loss: 0.3966 - auc: 0.8369\n",
            "Epoch 172/200\n",
            "85/85 [==============================] - 0s 2ms/step - loss: 0.3966 - auc: 0.8369\n",
            "Epoch 173/200\n",
            "85/85 [==============================] - 0s 1ms/step - loss: 0.3966 - auc: 0.8369\n",
            "Epoch 174/200\n",
            "85/85 [==============================] - 0s 1ms/step - loss: 0.3966 - auc: 0.8369\n",
            "Epoch 175/200\n",
            "85/85 [==============================] - 0s 1ms/step - loss: 0.3966 - auc: 0.8370\n",
            "Epoch 176/200\n",
            "85/85 [==============================] - 0s 1ms/step - loss: 0.3966 - auc: 0.8369\n",
            "Epoch 177/200\n",
            "85/85 [==============================] - 0s 1ms/step - loss: 0.3966 - auc: 0.8369\n",
            "Epoch 178/200\n",
            "85/85 [==============================] - 0s 1ms/step - loss: 0.3966 - auc: 0.8370\n",
            "Epoch 179/200\n",
            "85/85 [==============================] - 0s 1ms/step - loss: 0.3966 - auc: 0.8369\n",
            "Epoch 180/200\n",
            "85/85 [==============================] - 0s 1ms/step - loss: 0.3966 - auc: 0.8369\n",
            "Epoch 181/200\n",
            "85/85 [==============================] - 0s 2ms/step - loss: 0.3966 - auc: 0.8369\n",
            "Epoch 182/200\n",
            "85/85 [==============================] - 0s 1ms/step - loss: 0.3966 - auc: 0.8369\n",
            "Epoch 183/200\n",
            "85/85 [==============================] - 0s 1ms/step - loss: 0.3966 - auc: 0.8369\n",
            "Epoch 184/200\n",
            "85/85 [==============================] - 0s 1ms/step - loss: 0.3966 - auc: 0.8369\n",
            "Epoch 185/200\n",
            "85/85 [==============================] - 0s 1ms/step - loss: 0.3966 - auc: 0.8369\n",
            "Epoch 186/200\n",
            "85/85 [==============================] - 0s 1ms/step - loss: 0.3966 - auc: 0.8369\n",
            "Epoch 187/200\n",
            "85/85 [==============================] - 0s 1ms/step - loss: 0.3966 - auc: 0.8369\n",
            "Epoch 188/200\n",
            "85/85 [==============================] - 0s 1ms/step - loss: 0.3966 - auc: 0.8369\n",
            "Epoch 189/200\n",
            "85/85 [==============================] - 0s 1ms/step - loss: 0.3966 - auc: 0.8370\n",
            "Epoch 190/200\n",
            "85/85 [==============================] - 0s 1ms/step - loss: 0.3966 - auc: 0.8369\n",
            "Epoch 191/200\n",
            "85/85 [==============================] - 0s 1ms/step - loss: 0.3966 - auc: 0.8370\n",
            "Epoch 192/200\n",
            "85/85 [==============================] - 0s 1ms/step - loss: 0.3966 - auc: 0.8369\n",
            "Epoch 193/200\n",
            "85/85 [==============================] - 0s 1ms/step - loss: 0.3966 - auc: 0.8370\n",
            "Epoch 194/200\n",
            "85/85 [==============================] - 0s 1ms/step - loss: 0.3966 - auc: 0.8370\n",
            "Epoch 195/200\n",
            "85/85 [==============================] - 0s 1ms/step - loss: 0.3966 - auc: 0.8369\n",
            "Epoch 196/200\n",
            "85/85 [==============================] - 0s 1ms/step - loss: 0.3966 - auc: 0.8369\n",
            "Epoch 197/200\n",
            "85/85 [==============================] - 0s 1ms/step - loss: 0.3966 - auc: 0.8369\n",
            "Epoch 198/200\n",
            "85/85 [==============================] - 0s 1ms/step - loss: 0.3966 - auc: 0.8369\n",
            "Epoch 199/200\n",
            "85/85 [==============================] - 0s 1ms/step - loss: 0.3966 - auc: 0.8369\n",
            "Epoch 200/200\n",
            "85/85 [==============================] - 0s 1ms/step - loss: 0.3966 - auc: 0.8369\n"
          ]
        },
        {
          "data": {
            "image/png": "[encoded data removed]",
            "text/plain": [
              "<Figure size 640x480 with 1 Axes>"
            ]
          },
          "metadata": {},
          "output_type": "display_data"
        }
      ],
      "source": [
        "#@title Double-click to view the solution for Task 5.\n",
        "\n",
        "# The following variables are the hyperparameters.\n",
        "learning_rate = 0.001\n",
        "epochs = 200\n",
        "batch_size = 200\n",
        "label_name = \"median_house_value_is_high\"\n",
        "\n",
        "# AUC is a reasonable \"summary\" metric for\n",
        "# classification models.\n",
        "# Here is the updated definition of METRICS to\n",
        "# measure AUC:\n",
        "METRICS = [\n",
        "      tf.keras.metrics.AUC(num_thresholds=100, name='auc'),\n",
        "]\n",
        "\n",
        "# Establish the model's topography.\n",
        "my_model = create_model(inputs, learning_rate, METRICS)\n",
        "\n",
        "# Train the model on the training set.\n",
        "epochs, hist = train_model(my_model, train_df_norm, epochs,\n",
        "                           label_name, batch_size)\n",
        "\n",
        "# Plot metrics vs. epochs\n",
        "list_of_metrics_to_plot = ['auc']\n",
        "plot_curve(epochs, hist, list_of_metrics_to_plot)"
      ]
    }
  ],
  "metadata": {
    "colab": {
      "name": "Binary Classification.ipynb",
      "private_outputs": true,
      "provenance": []
    },
    "kernelspec": {
      "display_name": "Python 3",
      "name": "python3"
    },
    "language_info": {
      "codemirror_mode": {
        "name": "ipython",
        "version": 3
      },
      "file_extension": ".py",
      "mimetype": "text/x-python",
      "name": "python",
      "nbconvert_exporter": "python",
      "pygments_lexer": "ipython3",
      "version": "3.10.13"
    }
  },
  "nbformat": 4,
  "nbformat_minor": 0
}
