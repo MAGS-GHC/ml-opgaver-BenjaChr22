{
  "cells": [
    {
      "cell_type": "markdown",
      "metadata": {
        "id": "m4_xVI2ibhmM"
      },
      "source": [
        "## Regression\n",
        "Teori som bliver gennemgået på klassen - [**Notion Regression**](https://www.notion.so/mercantec/Machine-Learning-e89a2baf0d414172b13d07465366482e?pvs=4#cceeafe8d5b9432d8709b1329caf6969)"
      ]
    },
    {
      "cell_type": "markdown",
      "metadata": {
        "id": "TL5y5fY9Jy_x"
      },
      "source": [
        "## Simpel lineær regression med syntetiske data\n",
        "\n",
        "I denne første del vil vi udforske lineær regression med en simpel database.\n"
      ]
    },
    {
      "cell_type": "markdown",
      "metadata": {
        "id": "DZz29MwGgE2Y"
      },
      "source": [
        "### Læringsmål:\n",
        "\n",
        "Efter at have udført denne øvelse vil du vide, hvordan du gør følgende:\n",
        "\n",
        "  * Tilpas følgende [hyperparametre](https://developers.google.com/machine-learning/glossary/#hyperparameter):\n",
        "    * [læringsrate](https://developers.google.com/machine-learning/glossary/#learning_rate)\n",
        "    * antal [epoker](https://developers.google.com/machine-learning/glossary/#epoch)\n",
        "    * [batchstørrelse](https://developers.google.com/machine-learning/glossary/#batch_size)\n",
        "  * Tolker forskellige typer af [loss curves](https://developers.google.com/machine-learning/glossary/#loss_curve)."
      ]
    },
    {
      "cell_type": "markdown",
      "metadata": {
        "id": "xchnxAsaKKqO"
      },
      "source": [
        "### Importér relevante moduler\n",
        "\n",
        "Den følgende celle importerer de pakker, som programmet kræver:\n"
      ]
    },
    {
      "cell_type": "code",
      "execution_count": 1,
      "metadata": {
        "id": "9n9_cTveKmse"
      },
      "outputs": [
        {
          "name": "stderr",
          "output_type": "stream",
          "text": [
            "2024-01-09 08:46:11.858319: I external/local_tsl/tsl/cuda/cudart_stub.cc:31] Could not find cuda drivers on your machine, GPU will not be used.\n",
            "2024-01-09 08:46:14.129716: E external/local_xla/xla/stream_executor/cuda/cuda_dnn.cc:9261] Unable to register cuDNN factory: Attempting to register factory for plugin cuDNN when one has already been registered\n",
            "2024-01-09 08:46:14.130109: E external/local_xla/xla/stream_executor/cuda/cuda_fft.cc:607] Unable to register cuFFT factory: Attempting to register factory for plugin cuFFT when one has already been registered\n",
            "2024-01-09 08:46:14.478318: E external/local_xla/xla/stream_executor/cuda/cuda_blas.cc:1515] Unable to register cuBLAS factory: Attempting to register factory for plugin cuBLAS when one has already been registered\n",
            "2024-01-09 08:46:15.192457: I external/local_tsl/tsl/cuda/cudart_stub.cc:31] Could not find cuda drivers on your machine, GPU will not be used.\n",
            "2024-01-09 08:46:15.194393: I tensorflow/core/platform/cpu_feature_guard.cc:182] This TensorFlow binary is optimized to use available CPU instructions in performance-critical operations.\n",
            "To enable the following instructions: AVX2 FMA, in other operations, rebuild TensorFlow with the appropriate compiler flags.\n",
            "2024-01-09 08:46:18.893784: W tensorflow/compiler/tf2tensorrt/utils/py_utils.cc:38] TF-TRT Warning: Could not find TensorRT\n"
          ]
        }
      ],
      "source": [
        "import pandas as pd\n",
        "import tensorflow as tf\n",
        "import numpy as np\n",
        "from matplotlib import pyplot as plt\n"
      ]
    },
    {
      "cell_type": "markdown",
      "metadata": {
        "id": "SIpsyJITPcbG"
      },
      "source": [
        "## Definér funktioner, der opbygger og træner en model\n",
        "\n",
        "Den følgende kode definerer to funktioner:\n",
        "\n",
        "  * `build_model(my_learning_rate)`, som opbygger en tom model.\n",
        "  * `train_model(model, feature, label, epochs)`, som træner modellen ud fra de eksempler (feature og label), du passerer.\n",
        "\n",
        "Da du ikke behøver at forstå modelopbygningskoden lige nu, har vi skjult denne kodecelle. Du kan valgfrit dobbeltklikke på overskriften for at udforske denne kode.\n"
      ]
    },
    {
      "cell_type": "code",
      "execution_count": 2,
      "metadata": {
        "cellView": "form",
        "colab": {
          "base_uri": "https://localhost:8080/"
        },
        "id": "xvO_beKVP1Ke",
        "outputId": "7a193f43-e0f5-4864-9544-9e575ba84543"
      },
      "outputs": [
        {
          "name": "stdout",
          "output_type": "stream",
          "text": [
            "Defined build_model and train_model\n"
          ]
        }
      ],
      "source": [
        "#@title Define the functions that build and train a model\n",
        "def build_model(my_learning_rate):\n",
        "  \"\"\"Create and compile a simple linear regression model.\"\"\"\n",
        "  # Most simple tf.keras models are sequential.\n",
        "  # A sequential model contains one or more layers.\n",
        "  model = tf.keras.models.Sequential()\n",
        "\n",
        "  # Describe the topography of the model.\n",
        "  # The topography of a simple linear regression model\n",
        "  # is a single node in a single layer.\n",
        "  model.add(tf.keras.layers.Dense(units=1,\n",
        "                                  input_shape=(1,)))\n",
        "\n",
        "  # Compile the model topography into code that\n",
        "  # TensorFlow can efficiently execute. Configure\n",
        "  # training to minimize the model's mean squared error.\n",
        "  model.compile(optimizer=tf.keras.optimizers.experimental.RMSprop(learning_rate=my_learning_rate),\n",
        "                loss=\"mean_squared_error\",\n",
        "                metrics=[tf.keras.metrics.RootMeanSquaredError()])\n",
        "\n",
        "  return model\n",
        "\n",
        "\n",
        "def train_model(model, feature, label, epochs, batch_size):\n",
        "  \"\"\"Train the model by feeding it data.\"\"\"\n",
        "\n",
        "  # Feed the feature values and the label values to the\n",
        "  # model. The model will train for the specified number\n",
        "  # of epochs, gradually learning how the feature values\n",
        "  # relate to the label values.\n",
        "  history = model.fit(x=feature,\n",
        "                      y=label,\n",
        "                      batch_size=batch_size,\n",
        "                      epochs=epochs)\n",
        "\n",
        "  # Gather the trained model's weight and bias.\n",
        "  trained_weight = model.get_weights()[0]\n",
        "  trained_bias = model.get_weights()[1]\n",
        "\n",
        "  # The list of epochs is stored separately from the\n",
        "  # rest of history.\n",
        "  epochs = history.epoch\n",
        "\n",
        "  # Gather the history (a snapshot) of each epoch.\n",
        "  hist = pd.DataFrame(history.history)\n",
        "\n",
        "  # Specifically gather the model's root mean\n",
        "  # squared error at each epoch.\n",
        "  rmse = hist[\"root_mean_squared_error\"]\n",
        "\n",
        "  return trained_weight, trained_bias, epochs, rmse\n",
        "\n",
        "print(\"Defined build_model and train_model\")"
      ]
    },
    {
      "cell_type": "markdown",
      "metadata": {
        "id": "Ak_TMAzGOIFq"
      },
      "source": [
        "### Definér plotningsfunktioner\n",
        "\n",
        "Vi bruger en populær Python-bibliotek kaldet [Matplotlib](https://developers.google.com/machine-learning/glossary/#matplotlib) til at oprette følgende to plot:\n",
        "\n",
        "* et plot af funktionens værdier vs. etiketværdierne og en linje, der viser output af den trænede model.\n",
        "* en [tabkurve](https://developers.google.com/machine-learning/glossary/#loss_curve).\n",
        "\n",
        "Vi har skjult den følgende kodecelle, fordi det ikke er relevant at lære Matplotlib i forhold til læringsmålene. Uanset det skal du stadig køre alle skjulte kodeceller."
      ]
    },
    {
      "cell_type": "code",
      "execution_count": 3,
      "metadata": {
        "cellView": "form",
        "colab": {
          "base_uri": "https://localhost:8080/"
        },
        "id": "QF0BFRXTOeR3",
        "outputId": "0785b5b3-e5a2-4383-a1c2-d5d809c936ae"
      },
      "outputs": [
        {
          "name": "stdout",
          "output_type": "stream",
          "text": [
            "Defined the plot_the_model and plot_the_loss_curve functions.\n"
          ]
        }
      ],
      "source": [
        "#@title Define the plotting functions\n",
        "def plot_the_model(trained_weight, trained_bias, feature, label):\n",
        "  \"\"\"Plot the trained model against the training feature and label.\"\"\"\n",
        "\n",
        "  # Label the axes.\n",
        "  plt.xlabel(\"feature\")\n",
        "  plt.ylabel(\"label\")\n",
        "\n",
        "  # Plot the feature values vs. label values.\n",
        "  plt.scatter(feature, label)\n",
        "\n",
        "  # Create a red line representing the model. The red line starts\n",
        "  # at coordinates (x0, y0) and ends at coordinates (x1, y1).\n",
        "  x0 = 0\n",
        "  y0 = trained_bias\n",
        "  x1 = feature[-1]\n",
        "  y1 = trained_bias + (np.average(trained_weight) * x1)\n",
        "  plt.plot([x0, x1], [y0, y1], c='r')\n",
        "\n",
        "  # Render the scatter plot and the red line.\n",
        "  plt.show()\n",
        "\n",
        "def plot_the_loss_curve(epochs, rmse):\n",
        "  \"\"\"Plot the loss curve, which shows loss vs. epoch.\"\"\"\n",
        "\n",
        "  plt.figure()\n",
        "  plt.xlabel(\"Epoch\")\n",
        "  plt.ylabel(\"Root Mean Squared Error\")\n",
        "\n",
        "  plt.plot(epochs, rmse, label=\"Loss\")\n",
        "  plt.legend()\n",
        "  plt.ylim([rmse.min()*0.97, rmse.max()])\n",
        "  plt.show()\n",
        "\n",
        "print(\"Defined the plot_the_model and plot_the_loss_curve functions.\")"
      ]
    },
    {
      "cell_type": "markdown",
      "metadata": {
        "id": "Eg08C7ZdxaMe"
      },
      "source": []
    },
    {
      "cell_type": "markdown",
      "metadata": {
        "id": "LVSDPusELEZ5"
      },
      "source": [
        "### Definér datasættet\n",
        "\n",
        "Datasættet består af 12 [eksempler](https://developers.google.com/machine-learning/glossary/#example). Hvert eksempel består af en [feature](https://developers.google.com/machine-learning/glossary/#feature) og en [label](https://developers.google.com/machine-learning/glossary/#label).\n"
      ]
    },
    {
      "cell_type": "code",
      "execution_count": 4,
      "metadata": {
        "id": "rnUSYKw4LUuh"
      },
      "outputs": [],
      "source": [
        "my_feature = ([1.0, 2.0,  3.0,  4.0,  5.0,  6.0,  7.0,  8.0,  9.0, 10.0, 11.0, 12.0])\n",
        "my_label   = ([5.0, 8.8,  9.6, 14.2, 18.8, 19.5, 21.4, 26.8, 28.9, 32.0, 33.8, 38.2])"
      ]
    },
    {
      "cell_type": "markdown",
      "metadata": {
        "id": "K24afla-4s2x"
      },
      "source": [
        "### Angiv hyperparametrene\n",
        "\n",
        "Hyperparametrene i denne Colab er som følger:\n",
        "\n",
        "  * [læringsrate - learning_rate](https://developers.google.com/machine-learning/glossary/#learning_rate)\n",
        "  * [epochs](https://developers.google.com/machine-learning/glossary/#epoch)\n",
        "  * [batch_size](https://developers.google.com/machine-learning/glossary/#batch_size)\n",
        "\n",
        "Den følgende kodecelle initialiserer disse hyperparametre og kalder derefter funktionerne, der opbygger og træner modellen."
      ]
    },
    {
      "cell_type": "code",
      "execution_count": 5,
      "metadata": {
        "id": "Ye730h13CQ97"
      },
      "outputs": [
        {
          "name": "stdout",
          "output_type": "stream",
          "text": [
            "Epoch 1/10\n",
            "1/1 [==============================] - 0s 473ms/step - loss: 562.1672 - root_mean_squared_error: 23.7101\n",
            "Epoch 2/10\n",
            "1/1 [==============================] - 0s 5ms/step - loss: 549.8653 - root_mean_squared_error: 23.4492\n",
            "Epoch 3/10\n",
            "1/1 [==============================] - 0s 5ms/step - loss: 541.0723 - root_mean_squared_error: 23.2610\n",
            "Epoch 4/10\n",
            "1/1 [==============================] - 0s 5ms/step - loss: 533.7875 - root_mean_squared_error: 23.1038\n",
            "Epoch 5/10\n",
            "1/1 [==============================] - 0s 4ms/step - loss: 527.3776 - root_mean_squared_error: 22.9647\n",
            "Epoch 6/10\n",
            "1/1 [==============================] - 0s 5ms/step - loss: 521.5491 - root_mean_squared_error: 22.8375\n",
            "Epoch 7/10\n",
            "1/1 [==============================] - 0s 5ms/step - loss: 516.1387 - root_mean_squared_error: 22.7187\n",
            "Epoch 8/10\n",
            "1/1 [==============================] - 0s 4ms/step - loss: 511.0450 - root_mean_squared_error: 22.6063\n",
            "Epoch 9/10\n",
            "1/1 [==============================] - 0s 4ms/step - loss: 506.2001 - root_mean_squared_error: 22.4989\n",
            "Epoch 10/10\n",
            "1/1 [==============================] - 0s 5ms/step - loss: 501.5561 - root_mean_squared_error: 22.3954\n"
          ]
        },
        {
          "data": {
            "image/png": "[encoded data removed]",
            "text/plain": [
              "<Figure size 640x480 with 1 Axes>"
            ]
          },
          "metadata": {},
          "output_type": "display_data"
        },
        {
          "data": {
            "image/png": "[encoded data removed]",
            "text/plain": [
              "<Figure size 640x480 with 1 Axes>"
            ]
          },
          "metadata": {},
          "output_type": "display_data"
        }
      ],
      "source": [
        "learning_rate=0.01\n",
        "epochs=10\n",
        "my_batch_size=12\n",
        "\n",
        "my_model = build_model(learning_rate)\n",
        "trained_weight, trained_bias, epochs, rmse = train_model(my_model, my_feature,\n",
        "                                                         my_label, epochs,\n",
        "                                                         my_batch_size)\n",
        "plot_the_model(trained_weight, trained_bias, my_feature, my_label)\n",
        "plot_the_loss_curve(epochs, rmse)"
      ]
    },
    {
      "cell_type": "markdown",
      "metadata": {
        "id": "QwSm60H6pQjJ"
      },
      "source": [
        "### Opgave 1: Undersøg graferne\n",
        "\n",
        "Undersøg den øverste graf. De blå prikker identificerer de faktiske data, mens den røde linje identificerer output fra den trænede model. Ideelt set bør den røde linje justere sig pænt med de blå prikker. Gør den det?\n",
        "\n",
        "En vis grad af tilfældighed spiller ind i træningen af en model, så du vil få lidt forskellige resultater hver gang du træner. Det sagt, medmindre du er en ekstremt heldig person, så passer den røde linje sandsynligvis *ikke* pænt med de blå prikker.\n",
        "\n",
        "Undersøg den nederste graf, som viser tabkurven. Bemærk, at tabkurven falder, men ikke flader ud, hvilket er et tegn på, at modellen ikke er tilstrækkeligt trænet.\n",
        "\n",
        "Hvad kan have effekt på hvor godt modellen er trænet?"
      ]
    },
    {
      "cell_type": "markdown",
      "metadata": {
        "id": "lLXPvqCRvgI4"
      },
      "source": [
        "### Opgave 2: Øg antallet af epoker\n",
        "\n",
        "Træningstabet bør gradvist falde, først stejlt og derefter langsommere. Til sidst bør træningstab forblive stabilt (nul hældning eller næsten nul hældning), hvilket indikerer, at træningen har [konvergeret](http://developers.google.com/machine-learning/glossary/#convergence).\n",
        "\n",
        "I Opgave 1 konvergerede træningstab ikke. En mulig løsning er at øge antallet af epoker tilstrækkeligt for at få modellen til at konvergere. Det er imidlertid ineffektivt at træne ud over konvergenspunktet, så indstil ikke bare antallet af epoker til en vilkårligt høj værdi.\n",
        "\n",
        "Undersøg tabkurven. Konvergerer modellen?"
      ]
    },
    {
      "cell_type": "code",
      "execution_count": null,
      "metadata": {
        "id": "uXuJH3h6t5qs"
      },
      "outputs": [],
      "source": [
        "learning_rate=0.01\n",
        "epochs= 500\n",
        "my_batch_size=12\n",
        "\n",
        "my_model = build_model(learning_rate)\n",
        "trained_weight, trained_bias, epochs, rmse = train_model(my_model, my_feature,\n",
        "                                                        my_label, epochs,\n",
        "                                                        my_batch_size)\n",
        "plot_the_model(trained_weight, trained_bias, my_feature, my_label)\n",
        "plot_the_loss_curve(epochs, rmse)"
      ]
    },
    {
      "cell_type": "code",
      "execution_count": null,
      "metadata": {
        "cellView": "form",
        "id": "1tWrzP4Ww7sD"
      },
      "outputs": [],
      "source": [
        "#@title Double-click to view a possible solution\n",
        "learning_rate=0.01\n",
        "epochs=450\n",
        "my_batch_size=12\n",
        "\n",
        "my_model = build_model(learning_rate)\n",
        "trained_weight, trained_bias, epochs, rmse = train_model(my_model, my_feature,\n",
        "                                                         my_label, epochs,\n",
        "                                                         my_batch_size)\n",
        "plot_the_model(trained_weight, trained_bias, my_feature, my_label)\n",
        "plot_the_loss_curve(epochs, rmse)\n",
        "\n",
        "# The loss curve suggests that the model does converge."
      ]
    },
    {
      "cell_type": "markdown",
      "metadata": {
        "id": "0KmzfFB5zwvd"
      },
      "source": [
        "### Opgave 3: Forøg læringsraten\n",
        "\n",
        "I Opgave 2 øgede du antallet af epoker for at få modellen til at konvergere. Nogle gange kan du få modellen til at konvergere hurtigere ved at øge læringsraten. Dog gør indstillingen af læringsraten for høj ofte det umuligt for en model at konvergere. I Opgave 3 har vi med vilje indstillet læringsraten for høj. Kør følgende kodecelle og se, hvad der sker."
      ]
    },
    {
      "cell_type": "code",
      "execution_count": null,
      "metadata": {
        "id": "eD1hTmdd0uCo"
      },
      "outputs": [],
      "source": [
        "# Increase the learning rate and decrease the number of epochs.\n",
        "learning_rate=100\n",
        "epochs=500\n",
        "\n",
        "my_model = build_model(learning_rate)\n",
        "trained_weight, trained_bias, epochs, rmse = train_model(my_model, my_feature,\n",
        "                                                         my_label, epochs,\n",
        "                                                         my_batch_size)\n",
        "plot_the_model(trained_weight, trained_bias, my_feature, my_label)\n",
        "plot_the_loss_curve(epochs, rmse)"
      ]
    },
    {
      "cell_type": "markdown",
      "metadata": {
        "id": "c96ITm021NEV"
      },
      "source": [
        "Den resulterende model er elendig; den røde linje justerer sig ikke med de blå prikker. Desuden svinger tabkurven som en [rutsjebane](https://www.wikipedia.org/wiki/Roller_coaster). En svingende tabkurve tyder kraftigt på, at læringsraten er for høj.\n"
      ]
    },
    {
      "cell_type": "markdown",
      "metadata": {
        "id": "r63YkMx82WVr"
      },
      "source": [
        "### Opgave 4: Find den ideelle kombination af epoker og læringsrate\n",
        "\n",
        "Tildel værdier til følgende to hyperparametre for at få træningen til at konvergere så effektivt som muligt:\n",
        "\n",
        "* Læringsrate (learning_rate)\n",
        "* Epoker (epochs)\n"
      ]
    },
    {
      "cell_type": "code",
      "execution_count": null,
      "metadata": {
        "id": "ZYC8eR5x5n4m"
      },
      "outputs": [],
      "source": [
        "# Set the learning rate and number of epochs\n",
        "learning_rate= ?  # Replace ? with a floating-point number\n",
        "epochs= ?   # Replace ? with an integer\n",
        "\n",
        "my_model = build_model(learning_rate)\n",
        "trained_weight, trained_bias, epochs, rmse = train_model(my_model, my_feature,\n",
        "                                                         my_label, epochs,\n",
        "                                                         my_batch_size)\n",
        "plot_the_model(trained_weight, trained_bias, my_feature, my_label)\n",
        "plot_the_loss_curve(epochs, rmse)"
      ]
    },
    {
      "cell_type": "code",
      "execution_count": null,
      "metadata": {
        "cellView": "form",
        "id": "_GMGgR6O54IN"
      },
      "outputs": [],
      "source": [
        "#@title Double-click to view a possible solution\n",
        "\n",
        "learning_rate=0.14\n",
        "epochs=70\n",
        "\n",
        "my_model = build_model(learning_rate)\n",
        "trained_weight, trained_bias, epochs, rmse = train_model(my_model, my_feature,\n",
        "                                                         my_label, epochs,\n",
        "                                                         my_batch_size)\n",
        "plot_the_model(trained_weight, trained_bias, my_feature, my_label)\n",
        "plot_the_loss_curve(epochs, rmse)"
      ]
    },
    {
      "cell_type": "markdown",
      "metadata": {
        "id": "0NDET9e6AAbA"
      },
      "source": [
        "### Opgave 5: Justér batchstørrelsen\n",
        "\n",
        "Systemet genberegner modelens tabværdi og justerer modelens vægte og bias efter hver **iteration**. Hver iteration er det interval, hvor systemet behandler én batch. For eksempel, hvis **batchstørrelsen** er 6, genberegner systemet modelens tabværdi og justerer modelens vægte og bias efter at have behandlet hver 6 eksempler.\n",
        "\n",
        "Én **epoke** dækker tilstrækkeligt mange iterationer til at behandle hver eneste eksempel i datasættet. For eksempel, hvis batchstørrelsen er 12, varer hver epoke én iteration. Men hvis batchstørrelsen er 6, kræver hver epoke to iterationer.\n",
        "\n",
        "Det er fristende blot at indstille batchstørrelsen til antallet af eksempler i datasættet (12 i dette tilfælde). Dog kan modellen faktisk trænes hurtigere på mindre batches. Omvendt indeholder meget små batches måske ikke nok information til at hjælpe modellen med at konvergere.\n",
        "\n",
        "Experimentér med `my_batch_size` i den følgende kodecelle. Hvad er det mindste heltal, du kan indstille for `my_batch_size` og stadig få modellen til at konvergere på hundrede epoker?\n"
      ]
    },
    {
      "cell_type": "code",
      "execution_count": null,
      "metadata": {
        "id": "_vGx0lOodQrT"
      },
      "outputs": [],
      "source": [
        "learning_rate=0.05\n",
        "epochs=100\n",
        "my_batch_size= 1\n",
        "\n",
        "my_model = build_model(learning_rate)\n",
        "trained_weight, trained_bias, epochs, rmse = train_model(my_model, my_feature,\n",
        "                                                        my_label, epochs,\n",
        "                                                        my_batch_size)\n",
        "plot_the_model(trained_weight, trained_bias, my_feature, my_label)\n",
        "plot_the_loss_curve(epochs, rmse)"
      ]
    },
    {
      "cell_type": "code",
      "execution_count": null,
      "metadata": {
        "id": "-mtVpoBrANAm"
      },
      "outputs": [],
      "source": [
        "#@title Double-click to view a possible solution\n",
        "\n",
        "learning_rate=0.05\n",
        "epochs=100\n",
        "my_batch_size=1 # Wow, a batch size of 1 works!\n",
        "\n",
        "my_model = build_model(learning_rate)\n",
        "trained_weight, trained_bias, epochs, rmse = train_model(my_model, my_feature,\n",
        "                                                         my_label, epochs,\n",
        "                                                         my_batch_size)\n",
        "plot_the_model(trained_weight, trained_bias, my_feature, my_label)\n",
        "plot_the_loss_curve(epochs, rmse)\n"
      ]
    },
    {
      "cell_type": "markdown",
      "metadata": {
        "id": "aS3q7TIF9SFL"
      },
      "source": [
        "## Sammenfatning af hyperparameter-tilpasning\n",
        "\n",
        "De fleste maskinlæringsproblemer kræver en masse hyperparameter-tilpasning. Desværre kan vi ikke give konkrete retningslinjer for tilpasning til hver model. At sænke læringsraten kan hjælpe én model med at konvergere effektivt, men få en anden model til at konvergere alt for langsomt. Du skal eksperimentere for at finde den bedste sæt hyperparametre for dit datasæt. Med det sagt er her nogle tommelfingerregler:\n",
        "\n",
        "* Træningstabet bør jævnt falde, først stejlt og derefter langsommere, indtil kurvens hældning når eller nærmer sig nul.\n",
        "* Hvis træningstabet ikke konvergerer, så træn i flere epoker.\n",
        "* Hvis træningstabet falder for langsomt, skal du øge læringsraten. Bemærk, at indstilling af læringsraten for høj også kan forhindre træningstab i at konvergere.\n",
        "* Hvis træningstabet varierer vildt (dvs. træningstabet hopper rundt), så sænk læringsraten.\n",
        "* At sænke læringsraten samtidig med at du øger antallet af epoker eller batchstørrelsen er ofte en god kombination.\n",
        "* At indstille batchstørrelsen til et *meget* lille batchnummer kan også forårsage ustabilitet. Prøv først store batchstørrelsesværdier. Derefter skal du sænke batchstørrelsen, indtil du ser forringelse.\n",
        "* For datasæt fra den virkelige verden, der består af et meget stort antal eksempler, kan hele datasættet muligvis ikke passe i hukommelsen. I sådanne tilfælde skal du reducere batchstørrelsen for at muliggøre, at en batch passer i hukommelsen.\n",
        "\n",
        "Husk: den ideelle kombination af hyperparametre afhænger af data, så du skal altid eksperimentere og verificere.\n"
      ]
    },
    {
      "cell_type": "markdown",
      "metadata": {
        "id": "t_yvxKvCbU7U"
      },
      "source": [
        "## Linear Regression with a Real Dataset\n",
        "   \n",
        "Nu prøver vi at skifter over til et reelt datasæt med huspriser i Californien.\n",
        "\n",
        "\n",
        "\n"
      ]
    },
    {
      "cell_type": "markdown",
      "metadata": {
        "id": "h8wtceyJj2uX"
      },
      "source": [
        "### Læringsmål:\n",
        "\n",
        "Efter at have udført denne del vil du vide, hvordan man gør følgende:\n",
        "\n",
        "  * Læse en .csv-fil ind i en [pandas](https://developers.google.com/machine-learning/glossary/#pandas) DataFrame.\n",
        "  * Undersøge et stykke [datamateriale](https://developers.google.com/machine-learning/glossary/#data_set).\n",
        "  * Eksperimentere med forskellige [funktioner](https://developers.google.com/machine-learning/glossary/#feature) i opbygningen af en model.\n",
        "  * Finjustere modellens [hyperparametre](https://developers.google.com/machine-learning/glossary/#hyperparameter).\n"
      ]
    },
    {
      "cell_type": "markdown",
      "metadata": {
        "id": "JJZEgJQSjyK4"
      },
      "source": [
        "### Datamaterialet\n",
        "\n",
        "[Datamaterialet til denne øvelse](https://developers.google.com/machine-learning/crash-course/california-housing-data-description) er baseret på folketællingsdata fra 1990 i Californien. Datamaterialet er gammelt, men det giver stadig en fremragende mulighed for at lære om maskinlæringsprogrammering."
      ]
    },
    {
      "cell_type": "markdown",
      "metadata": {
        "id": "-_Io78sbbU7V"
      },
      "source": [
        "### Import relevante moduler\n",
        "\n",
        "Det følgende kode er nødvendigt for at køre resten af denne filen!"
      ]
    },
    {
      "cell_type": "code",
      "execution_count": null,
      "metadata": {
        "cellView": "form",
        "id": "LdzASjKFbU7V"
      },
      "outputs": [],
      "source": [
        "#@title Import relevant modules\n",
        "import pandas as pd\n",
        "import tensorflow as tf\n",
        "import numpy as np\n",
        "from matplotlib import pyplot as plt\n",
        "\n",
        "# The following lines adjust the granularity of reporting.\n",
        "pd.options.display.max_rows = 10\n",
        "pd.options.display.float_format = \"{:.1f}\".format"
      ]
    },
    {
      "cell_type": "markdown",
      "metadata": {
        "id": "X_TaJhU4KcuY"
      },
      "source": [
        "### Datamaterialet\n",
        "\n",
        "Datamateriale gemmes ofte på disken eller på en URL i [.csv-format](https://wikipedia.org/wiki/Comma-separated_values).\n",
        "\n",
        "En velformet .csv-fil indeholder kolonnenavne i den første række, efterfulgt af mange rækker med data. Et komma deler hver værdi i hver række. Her er for eksempel de første fem rækker af .csv-filen, der indeholder Californien Boligdatamaterialet:\n",
        "\n",
        "```\n",
        "\"longitude\",\"latitude\",\"housing_median_age\",\"total_rooms\",\"total_bedrooms\",\"population\",\"households\",\"median_income\",\"median_house_value\"\n",
        "-114.310000,34.190000,15.000000,5612.000000,1283.000000,1015.000000,472.000000,1.493600,66900.000000\n",
        "-114.470000,34.400000,19.000000,7650.000000,1901.000000,1129.000000,463.000000,1.820000,80100.000000\n",
        "-114.560000,33.690000,17.000000,720.000000,174.000000,333.000000,117.000000,1.650900,85700.000000\n",
        "-114.570000,33.640000,14.000000,1501.000000,337.000000,515.000000,226.000000,3.191700,73400.000000\n",
        "```\n",
        "\n"
      ]
    },
    {
      "cell_type": "markdown",
      "metadata": {
        "id": "sSFQkzNlj-l6"
      },
      "source": [
        "### Indlæs .csv-filen i en pandas DataFrame\n",
        "\n",
        "Denne Colab, ligesom mange maskinlæringsprogrammer, indsamler .csv-filen og gemmer dataene i hukommelsen som en pandas Dataframe. Pandas er en open source Python-bibliotek. Den primære datetype i pandas er en DataFrame. Du kan forestille dig en pandas DataFrame som en regneark, hvor hver række er identificeret med et nummer, og hver kolonne med et navn. Pandas er selv bygget på et andet open source Python-bibliotek kaldet NumPy. Hvis du ikke er fortrolig med disse teknologier, bedes du se disse to hurtige tutorials:\n",
        "\n",
        "*   [NumPy](https://colab.research.google.com/github/google/eng-edu/blob/main/ml/cc/exercises/numpy_ultraquick_tutorial.ipynb?utm_source=linearregressionreal-colab&utm_medium=colab&utm_campaign=colab-external&utm_content=numpy_tf2-colab&hl=en)\n",
        "*   [Pandas DataFrames](https://colab.research.google.com/github/google/eng-edu/blob/main/ml/cc/exercises/pandas_dataframe_ultraquick_tutorial.ipynb?utm_source=linearregressionreal-colab&utm_medium=colab&utm_campaign=colab-external&utm_content=pandas_tf2-colab&hl=en)\n",
        "\n",
        "Den følgende kodecelle importerer .csv-filen i en pandas DataFrame og skalerer værdierne i labelen (`median_house_value`):\n"
      ]
    },
    {
      "cell_type": "code",
      "execution_count": null,
      "metadata": {
        "id": "JZlvdpyYKx7V"
      },
      "outputs": [],
      "source": [
        "# Import the dataset.\n",
        "training_df = pd.read_csv(filepath_or_buffer=\"https://download.mlcc.google.com/mledu-datasets/california_housing_train.csv\")\n",
        "\n",
        "# Scale the label.\n",
        "training_df[\"median_house_value\"] /= 1000.0\n",
        "\n",
        "# Print the first rows of the pandas DataFrame.\n",
        "training_df.head()"
      ]
    },
    {
      "cell_type": "markdown",
      "metadata": {
        "id": "5inxx49n4U9u"
      },
      "source": [
        "Skalering af `median_house_value` sætter værdien for hver bolig i tusinder af enheder. Skalering vil holde tabværdier og indlæringshastigheder i et mere venligt område.\n",
        "\n",
        "Selvom skalering af en label normalt *ikke* er afgørende, er skalering af funktioner i en multifunktionsmodel normalt *afgørende*."
      ]
    },
    {
      "cell_type": "markdown",
      "metadata": {
        "id": "yMysi6-3IAbu"
      },
      "source": [
        "### Undersøg datamaterialet\n",
        "\n",
        "En stor del af de fleste maskinlæringsprojekter handler om at lære dine data at kende. Pandas API giver en `describe`-funktion, der udskriver følgende statistik om hver kolonne i DataFrame:\n",
        "\n",
        "* `count`, som er antallet af rækker i den pågældende kolonne. Ideelt set indeholder `count` samme værdi for hver kolonne.\n",
        "\n",
        "* `mean` og `std`, som indeholder gennemsnittet og standardafvigelsen af værdierne i hver kolonne.\n",
        "\n",
        "* `min` og `max`, som indeholder de laveste og højeste værdier i hver kolonne.\n",
        "\n",
        "* `25%`, `50%`, `75%`, som indeholder forskellige [quantiles](https://developers.google.com/machine-learning/glossary/#quantile)."
      ]
    },
    {
      "cell_type": "code",
      "execution_count": null,
      "metadata": {
        "id": "e_vFy_6ZbU7W"
      },
      "outputs": [],
      "source": [
        "# Get statistics on the dataset.\n",
        "training_df.describe()\n"
      ]
    },
    {
      "cell_type": "markdown",
      "metadata": {
        "id": "f9pcW_Yjtoo8"
      },
      "source": [
        "### Opgave 1: Identificer anomalier i datamaterialet\n",
        "\n",
        "Ser du nogen anomalier (mærkelige værdier) i dataene?"
      ]
    },
    {
      "cell_type": "code",
      "execution_count": null,
      "metadata": {
        "cellView": "form",
        "id": "UoS7NWRXEs1H"
      },
      "outputs": [],
      "source": [
        "#@title Double-click to view a possible answer.\n",
        "\n",
        "# The maximum value (max) of several columns seems very\n",
        "# high compared to the other quantiles. For example,\n",
        "# example the total_rooms column. Given the quantile\n",
        "# values (25%, 50%, and 75%), you might expect the\n",
        "# max value of total_rooms to be approximately\n",
        "# 5,000 or possibly 10,000. However, the max value\n",
        "# is actually 37,937.\n",
        "\n",
        "# When you see anomalies in a column, become more careful\n",
        "# about using that column as a feature. That said,\n",
        "# anomalies in potential features sometimes mirror\n",
        "# anomalies in the label, which could make the column\n",
        "# be (or seem to be) a powerful feature.\n",
        "# Also, as you will see later in the course, you\n",
        "# might be able to represent (pre-process) raw data\n",
        "# in order to make columns into useful features."
      ]
    },
    {
      "cell_type": "markdown",
      "metadata": {
        "id": "3014ezH3C7jT"
      },
      "source": [
        "### Definér funktioner, der opbygger og træner en model\n",
        "\n",
        "Følgende kode definerer to funktioner:\n",
        "\n",
        "  * `build_model(my_learning_rate)`, som opbygger en tilfældigt initialiseret model.\n",
        "  * `train_model(model, feature, label, epochs)`, som træner modellen ud fra de eksempler (feature og label), du giver.\n",
        "\n",
        "Da du ikke behøver at forstå kode til opbygning af modellen lige nu, har vi skjult denne kodecelle. Du kan eventuelt dobbeltklikke på overskriften nedenfor for at se koden, der opbygger og træner en model."
      ]
    },
    {
      "cell_type": "code",
      "execution_count": null,
      "metadata": {
        "cellView": "form",
        "id": "pedD5GhlDC-y"
      },
      "outputs": [],
      "source": [
        "#@title Define the functions that build and train a model\n",
        "def build_model(my_learning_rate):\n",
        "  \"\"\"Create and compile a simple linear regression model.\"\"\"\n",
        "  # Most simple tf.keras models are sequential.\n",
        "  model = tf.keras.models.Sequential()\n",
        "\n",
        "  # Describe the topography of the model.\n",
        "  # The topography of a simple linear regression model\n",
        "  # is a single node in a single layer.\n",
        "  model.add(tf.keras.layers.Dense(units=1,\n",
        "                                  input_shape=(1,)))\n",
        "\n",
        "  # Compile the model topography into code that TensorFlow can efficiently\n",
        "  # execute. Configure training to minimize the model's mean squared error.\n",
        "  model.compile(optimizer=tf.keras.optimizers.experimental.RMSprop(learning_rate=my_learning_rate),\n",
        "                loss=\"mean_squared_error\",\n",
        "                metrics=[tf.keras.metrics.RootMeanSquaredError()])\n",
        "\n",
        "  return model\n",
        "\n",
        "\n",
        "def train_model(model, df, feature, label, epochs, batch_size):\n",
        "  \"\"\"Train the model by feeding it data.\"\"\"\n",
        "\n",
        "  # Feed the model the feature and the label.\n",
        "  # The model will train for the specified number of epochs.\n",
        "  history = model.fit(x=df[feature],\n",
        "                      y=df[label],\n",
        "                      batch_size=batch_size,\n",
        "                      epochs=epochs)\n",
        "\n",
        "  # Gather the trained model's weight and bias.\n",
        "  trained_weight = model.get_weights()[0]\n",
        "  trained_bias = model.get_weights()[1]\n",
        "\n",
        "  # The list of epochs is stored separately from the rest of history.\n",
        "  epochs = history.epoch\n",
        "\n",
        "  # Isolate the error for each epoch.\n",
        "  hist = pd.DataFrame(history.history)\n",
        "\n",
        "  # To track the progression of training, we're going to take a snapshot\n",
        "  # of the model's root mean squared error at each epoch.\n",
        "  rmse = hist[\"root_mean_squared_error\"]\n",
        "\n",
        "  return trained_weight, trained_bias, epochs, rmse\n",
        "\n",
        "print(\"Defined the build_model and train_model functions.\")"
      ]
    },
    {
      "cell_type": "markdown",
      "metadata": {
        "id": "ndnSl7yTbU7W"
      },
      "source": [
        "### Definér plotningsfunktioner\n",
        "\n",
        "Følgende [matplotlib](https://developers.google.com/machine-learning/glossary/#matplotlib) funktioner opretter følgende grafer:\n",
        "\n",
        "*  et spredningsdiagram af funktionen mod labelen og en linje, der viser output fra den trænede model.\n",
        "*  en tabkurve.\n",
        "\n",
        "Du kan eventuelt dobbeltklikke på overskriften nedenfor for at se matplotlib-koden, men bemærk, at skrivning af matplotlib-kode ikke er en vigtig del af at lære ML-programmering."
      ]
    },
    {
      "cell_type": "code",
      "execution_count": null,
      "metadata": {
        "cellView": "form",
        "id": "VZN7O23xbU7W"
      },
      "outputs": [],
      "source": [
        "#@title Define the plotting functions\n",
        "def plot_the_model(trained_weight, trained_bias, feature, label):\n",
        "  \"\"\"Plot the trained model against 200 random training examples.\"\"\"\n",
        "\n",
        "  # Label the axes.\n",
        "  plt.xlabel(feature)\n",
        "  plt.ylabel(label)\n",
        "\n",
        "  # Create a scatter plot from 200 random points of the dataset.\n",
        "  random_examples = training_df.sample(n=200)\n",
        "  plt.scatter(random_examples[feature], random_examples[label])\n",
        "\n",
        "  # Create a red line representing the model. The red line starts\n",
        "  # at coordinates (x0, y0) and ends at coordinates (x1, y1).\n",
        "  x0 = 0\n",
        "  y0 = trained_bias\n",
        "  x1 = random_examples[feature].max()\n",
        "  y1 = trained_bias + (np.average(trained_weight) * x1)\n",
        "  plt.plot([x0, x1], [y0, y1], c='r')\n",
        "\n",
        "  # Render the scatter plot and the red line.\n",
        "  plt.show()\n",
        "\n",
        "\n",
        "def plot_the_loss_curve(epochs, rmse):\n",
        "  \"\"\"Plot a curve of loss vs. epoch.\"\"\"\n",
        "\n",
        "  plt.figure()\n",
        "  plt.xlabel(\"Epoch\")\n",
        "  plt.ylabel(\"Root Mean Squared Error\")\n",
        "\n",
        "  plt.plot(epochs, rmse, label=\"Loss\")\n",
        "  plt.legend()\n",
        "  plt.ylim([rmse.min()*0.97, rmse.max()])\n",
        "  plt.show()\n",
        "\n",
        "print(\"Defined the plot_the_model and plot_the_loss_curve functions.\")"
      ]
    },
    {
      "cell_type": "markdown",
      "metadata": {
        "id": "D-IXYVfvM4gD"
      },
      "source": [
        "### Kald modelfunktionerne\n",
        "\n",
        "En vigtig del af maskinlæring er at afgøre, hvilke [funktioner](https://developers.google.com/machine-learning/glossary/#feature) der korrelerer med [labelen](https://developers.google.com/machine-learning/glossary/#label). For eksempel er modeller til forudsigelse af boligværdier i virkeligheden normalt afhængige af hundredvis af funktioner og syntetiske funktioner. Dog er denne model afhængig af kun én funktion. For nu vil du vilkårligt bruge `total_rooms` som den funktion.\n"
      ]
    },
    {
      "cell_type": "code",
      "execution_count": null,
      "metadata": {
        "cellView": "both",
        "id": "nj3v5EKQFY8s"
      },
      "outputs": [],
      "source": [
        "# The following variables are the hyperparameters.\n",
        "learning_rate = 0.01\n",
        "epochs = 30\n",
        "batch_size = 30\n",
        "\n",
        "# Specify the feature and the label.\n",
        "my_feature = \"total_rooms\"  # the total number of rooms on a specific city block.\n",
        "my_label=\"median_house_value\" # the median value of a house on a specific city block.\n",
        "# That is, you're going to create a model that predicts house value based\n",
        "# solely on total_rooms.\n",
        "\n",
        "# Discard any pre-existing version of the model.\n",
        "my_model = None\n",
        "\n",
        "# Invoke the functions.\n",
        "my_model = build_model(learning_rate)\n",
        "weight, bias, epochs, rmse = train_model(my_model, training_df,\n",
        "                                         my_feature, my_label,\n",
        "                                         epochs, batch_size)\n",
        "\n",
        "print(\"\\nThe learned weight for your model is %.4f\" % weight)\n",
        "print(\"The learned bias for your model is %.4f\\n\" % bias )\n",
        "\n",
        "plot_the_model(weight, bias, my_feature, my_label)\n",
        "plot_the_loss_curve(epochs, rmse)"
      ]
    },
    {
      "cell_type": "markdown",
      "metadata": {
        "id": "Btp8zUNbYOcd"
      },
      "source": [
        "En vis grad af tilfældighed spiller ind i træningen af en model. Som følge heraf vil du få forskellige resultater hver gang du træner modellen. Med det sagt, givet datamaterialet og hyperparametrene, vil den trænede model generelt gøre en dårlig beskrivelse af forholdet mellem funktionen og labelen."
      ]
    },
    {
      "cell_type": "markdown",
      "metadata": {
        "id": "1xNqWWos_zyk"
      },
      "source": [
        "### Brug modellen til at lave forudsigelser\n",
        "\n",
        "Du kan bruge den trænede model til at lave forudsigelser. I praksis [bør du lave forudsigelser på eksempler, der ikke er blevet brugt i træning](https://developers.google.com/machine-learning/crash-course/training-and-test-sets/splitting-data). Dog vil du i denne øvelse blot arbejde med en delmængde af det samme træningsdatamateriale. En senere Colab-øvelse vil udforske måder at lave forudsigelser på eksempler, der ikke er blevet brugt i træning.\n",
        "\n",
        "Kør først følgende kode for at definere funktionen til boligforudsigelse:"
      ]
    },
    {
      "cell_type": "code",
      "execution_count": null,
      "metadata": {
        "id": "nH63BmncAcab"
      },
      "outputs": [],
      "source": [
        "def predict_house_values(n, feature, label):\n",
        "  \"\"\"Predict house values based on a feature.\"\"\"\n",
        "\n",
        "  batch = training_df[feature][10000:10000 + n]\n",
        "  predicted_values = my_model.predict_on_batch(x=batch)\n",
        "\n",
        "  print(\"feature   label          predicted\")\n",
        "  print(\"  value   value          value\")\n",
        "  print(\"          in thousand$   in thousand$\")\n",
        "  print(\"--------------------------------------\")\n",
        "  for i in range(n):\n",
        "    print (\"%5.0f %6.0f %15.0f\" % (training_df[feature][10000 + i],\n",
        "                                   training_df[label][10000 + i],\n",
        "                                   predicted_values[i][0] ))"
      ]
    },
    {
      "cell_type": "markdown",
      "metadata": {
        "id": "NbBNQujU5WjK"
      },
      "source": [
        "Nu kan du kalde boligforudsigelsesfunktionen på 10 eksempler:"
      ]
    },
    {
      "cell_type": "code",
      "execution_count": null,
      "metadata": {
        "id": "Y_0DGBt0Kz_N"
      },
      "outputs": [],
      "source": [
        "predict_house_values(10, my_feature, my_label)"
      ]
    },
    {
      "cell_type": "markdown",
      "metadata": {
        "id": "-gGaqArcpqY3"
      },
      "source": [
        "### Opgave 2: Vurder modellens forudsigelsesevne\n",
        "\n",
        "Kig på den foregående tabel. Hvor tæt er den forudsagte værdi på labelværdien? Med andre ord, forudsiger din model nøjagtigt boligværdier?\n"
      ]
    },
    {
      "cell_type": "code",
      "execution_count": null,
      "metadata": {
        "cellView": "form",
        "id": "yVpjhUFm9uID"
      },
      "outputs": [],
      "source": [
        "#@title Double-click to view the answer.\n",
        "\n",
        "# Most of the predicted values differ significantly\n",
        "# from the label value, so the trained model probably\n",
        "# doesn't have much predictive power. However, the\n",
        "# first 10 examples might not be representative of\n",
        "# the rest of the examples."
      ]
    },
    {
      "cell_type": "markdown",
      "metadata": {
        "id": "wLoqis3IUPSd"
      },
      "source": [
        "### Opgave 3: Prøv en anden funktion\n",
        "\n",
        "Funktionen `total_rooms` havde kun lidt forudsigelsesevne. Ville en anden funktion have større forudsigelsesevne? Prøv at bruge `befolkning` som funktion i stedet for `total_rooms`.\n",
        "\n",
        "Bemærk: Når du ændrer funktioner, kan det være nødvendigt at ændre hyperparametrene."
      ]
    },
    {
      "cell_type": "code",
      "execution_count": null,
      "metadata": {
        "id": "H0ab6HD4ZO75"
      },
      "outputs": [],
      "source": [
        "my_feature = \"population\"   # Replace the ? with population or possibly\n",
        "                   # a different column name.\n",
        "\n",
        "# Experiment with the hyperparameters.\n",
        "learning_rate = 2\n",
        "epochs = 3\n",
        "batch_size = 120\n",
        "\n",
        "# Don't change anything below this line.\n",
        "my_model = build_model(learning_rate)\n",
        "weight, bias, epochs, rmse = train_model(my_model, training_df,\n",
        "                                         my_feature, my_label,\n",
        "                                         epochs, batch_size)\n",
        "plot_the_model(weight, bias, my_feature, my_label)\n",
        "plot_the_loss_curve(epochs, rmse)\n",
        "\n",
        "predict_house_values(15, my_feature, my_label)"
      ]
    },
    {
      "cell_type": "code",
      "execution_count": null,
      "metadata": {
        "cellView": "form",
        "id": "107mDkW7U6mg"
      },
      "outputs": [],
      "source": [
        "#@title Double-click to view a possible solution.\n",
        "\n",
        "my_feature = \"population\" # Pick a feature other than \"total_rooms\"\n",
        "\n",
        "# Possibly, experiment with the hyperparameters.\n",
        "learning_rate = 0.05\n",
        "epochs = 18\n",
        "batch_size = 3\n",
        "\n",
        "# Don't change anything below.\n",
        "my_model = build_model(learning_rate)\n",
        "weight, bias, epochs, rmse = train_model(my_model, training_df,\n",
        "                                         my_feature, my_label,\n",
        "                                         epochs, batch_size)\n",
        "\n",
        "plot_the_model(weight, bias, my_feature, my_label)\n",
        "plot_the_loss_curve(epochs, rmse)\n",
        "\n",
        "predict_house_values(10, my_feature, my_label)"
      ]
    },
    {
      "cell_type": "markdown",
      "metadata": {
        "id": "Nd_rHJ59AUtk"
      },
      "source": [
        "Producerede `befolkning` bedre forudsigelser end `total_rooms`?"
      ]
    },
    {
      "cell_type": "code",
      "execution_count": null,
      "metadata": {
        "cellView": "form",
        "id": "F0tPEtzcC-vK"
      },
      "outputs": [],
      "source": [
        "#@title Double-click to view the answer.\n",
        "\n",
        "# Training is not entirely deterministic, but population\n",
        "# typically converges at a slightly higher RMSE than\n",
        "# total_rooms.  So, population appears to be about\n",
        "# the same or slightly worse at making predictions\n",
        "# than total_rooms."
      ]
    },
    {
      "cell_type": "markdown",
      "metadata": {
        "id": "C8uYpyGacsIg"
      },
      "source": [
        "### Opgave 4: Definér en syntetisk funktion\n",
        "\n",
        "Du har fundet ud af, at hverken `total_rooms` eller `befolkning` var nyttige funktioner. Med andre ord forudsagde hverken det samlede antal værelser i et kvarter eller kvarterets befolkning med succes den medianboligværdi i det kvarter. Måske kan *forholdet* mellem `total_rooms` og `befolkning` have nogen forudsigelsesevne. Med andre ord, måske er boligtætheden relateret til medianboligværdi.\n",
        "\n",
        "For at udforske denne hypotese skal du gøre følgende:\n",
        "\n",
        "1. Opret en [syntetisk funktion](https://developers.google.com/machine-learning/glossary/#synthetic_feature), som er en ratio af `total_rooms` til `befolkning`. (Hvis du er ny inden for pandas DataFrames, så studér venligst [Pandas DataFrame Ultraquick Tutorial](https://colab.research.google.com/github/google/eng-edu/blob/main/ml/cc/exercises/pandas_dataframe_ultraquick_tutorial.ipynb?utm_source=linearregressionreal-colab&utm_medium=colab&utm_campaign=colab-external&utm_content=pandas_tf2-colab&hl=en).)\n",
        "2. Finjuster de tre hyperparametre.\n",
        "3. Afgør, om denne syntetiske funktion producerer en lavere tabværdi end nogen af de enkelte funktioner, du har prøvet tidligere i denne øvelse.\n"
      ]
    },
    {
      "cell_type": "code",
      "execution_count": null,
      "metadata": {
        "id": "4Kx2xHSgdcpg"
      },
      "outputs": [],
      "source": [
        "# Define a synthetic feature named rooms_per_person\n",
        "training_df[\"rooms_per_person\"] = ? # write your code here.\n",
        "\n",
        "# Don't change the next line.\n",
        "my_feature = \"rooms_per_person\"\n",
        "\n",
        "# Assign values to these three hyperparameters.\n",
        "learning_rate = ?\n",
        "epochs = ?\n",
        "batch_size = ?\n",
        "\n",
        "# Don't change anything below this line.\n",
        "my_model = build_model(learning_rate)\n",
        "weight, bias, epochs, rmse = train_model(my_model, training_df,\n",
        "                                         my_feature, my_label,\n",
        "                                         epochs, batch_size)\n",
        "\n",
        "plot_the_loss_curve(epochs, rmse)\n",
        "predict_house_values(15, my_feature, my_label)"
      ]
    },
    {
      "cell_type": "code",
      "execution_count": null,
      "metadata": {
        "cellView": "form",
        "id": "xRfxp_3yofe3"
      },
      "outputs": [],
      "source": [
        "#@title Double-click to view a possible solution to Task 4.\n",
        "\n",
        "# Define a synthetic feature\n",
        "training_df[\"rooms_per_person\"] = training_df[\"total_rooms\"] / training_df[\"population\"]\n",
        "my_feature = \"rooms_per_person\"\n",
        "\n",
        "# Tune the hyperparameters.\n",
        "learning_rate = 0.06\n",
        "epochs = 24\n",
        "batch_size = 30\n",
        "\n",
        "# Don't change anything below this line.\n",
        "my_model = build_model(learning_rate)\n",
        "weight, bias, epochs, mae = train_model(my_model, training_df,\n",
        "                                        my_feature, my_label,\n",
        "                                        epochs, batch_size)\n",
        "\n",
        "plot_the_loss_curve(epochs, mae)\n",
        "predict_house_values(15, my_feature, my_label)\n"
      ]
    },
    {
      "cell_type": "markdown",
      "metadata": {
        "id": "HBiDWursB1Wi"
      },
      "source": [
        "Baseret på tabværdierne producerer denne syntetiske funktion en bedre model end de enkelte funktioner, du prøvede i Opgave 2 og Opgave 3. Dog skaber modellen stadig ikke de bedste forudsigelser.\n"
      ]
    },
    {
      "cell_type": "markdown",
      "metadata": {
        "id": "XEG_9oU9O54u"
      },
      "source": [
        "### Opgave 5: Find funktion(er), hvis råværdier korrelerer med labelen\n",
        "\n",
        "Indtil nu har vi støttet os til forsøg og fejl for at identificere mulige funktioner til modellen. Lad os i stedet stole på statistik.\n",
        "\n",
        "En **korrelationsmatrix** viser, hvordan hver attributs råværdier forholder sig til de andre attributters råværdier. Korrelationsværdier har følgende betydninger:\n",
        "\n",
        "  * `1.0`: perfekt positiv korrelation; det vil sige, når én attribut stiger, stiger den anden attribut.\n",
        "  * `-1.0`: perfekt negativ korrelation; det vil sige, når én attribut stiger, falder den anden attribut.\n",
        "  * `0.0`: ingen korrelation; de to kolonner [er ikke lineært relaterede](https://en.wikipedia.org/wiki/Correlation_and_dependence#/media/File:Correlation_examples2.svg).\n",
        "\n",
        "Generelt set betyder en højere absolut værdi af en korrelationsværdi, at den har større forudsigelseskraft. For eksempel indebærer en korrelationsværdi på -0,8 langt mere forudsigelseskraft end en korrelation på -0,2.\n",
        "\n",
        "Den følgende kodecelle genererer korrelationsmatricen for attributter i Californien Boligdatamaterialet:"
      ]
    },
    {
      "cell_type": "code",
      "execution_count": null,
      "metadata": {
        "id": "zFGKL45LO8Tt"
      },
      "outputs": [],
      "source": [
        "# Generate a correlation matrix.\n",
        "training_df.corr()"
      ]
    },
    {
      "cell_type": "markdown",
      "metadata": {
        "id": "hp0r3NAVPEdt"
      },
      "source": [
        "Korrelationsmatricen viser ni potentielle funktioner (inklusive en syntetisk funktion) og én label (`median_house_value`). En stærk negativ korrelation eller stærk positiv korrelation med labelen tyder på en potentiel god funktion.\n",
        "\n",
        "**Din opgave:** Afgør, hvilken af de ni potentielle funktioner der ser ud til at være den bedste kandidat som funktion?"
      ]
    },
    {
      "cell_type": "code",
      "execution_count": null,
      "metadata": {
        "cellView": "form",
        "id": "RomQTd1OPVd0"
      },
      "outputs": [],
      "source": [
        "# Median_indkomst korrelerer 0,7 med labelen\n",
        "# (median_house_value), så median_indkomst kunne være en\n",
        "# god funktion. De syv andre potentielle funktioner\n",
        "# har alle en korrelation relativt tæt på 0.\n",
        "\n",
        "# Hvis tiden tillader det, kan du prøve median_indkomst som funktion\n",
        "# og se, om modellen forbedres."
      ]
    },
    {
      "cell_type": "markdown",
      "metadata": {
        "id": "8RqvEbaVSlRt"
      },
      "source": [
        "Korrelationsmatricer fortæller ikke hele historien. I senere øvelser vil du finde yderligere måder at udnytte forudsigelsesevne fra potentielle funktioner.\n",
        "\n",
        "**Bemærk:** Brug af `median_indkomst` som funktion kan rejse visse etiske og retfærdighedsmæssige spørgsmål. Mod slutningen af kurset vil vi udforske etiske og retfærdighedsmæssige spørgsmål."
      ]
    }
  ],
  "metadata": {
    "colab": {
      "collapsed_sections": [
        "azZFyENLZm_g",
        "DeKRcpe49VnV",
        "jY-QAVIhcDDR",
        "r843-s6ZcF8C"
      ],
      "provenance": []
    },
    "kernelspec": {
      "display_name": "Python 3",
      "name": "python3"
    },
    "language_info": {
      "codemirror_mode": {
        "name": "ipython",
        "version": 3
      },
      "file_extension": ".py",
      "mimetype": "text/x-python",
      "name": "python",
      "nbconvert_exporter": "python",
      "pygments_lexer": "ipython3",
      "version": "3.10.13"
    }
  },
  "nbformat": 4,
  "nbformat_minor": 0
}
